{
 "cells": [
  {
   "cell_type": "code",
   "execution_count": 1,
   "id": "8c4eb100",
   "metadata": {},
   "outputs": [
    {
     "data": {
      "text/plain": [
       "'2.2.2'"
      ]
     },
     "execution_count": 1,
     "metadata": {},
     "output_type": "execute_result"
    }
   ],
   "source": [
    "import pandas as pd\n",
    "pd.__version__"
   ]
  },
  {
   "cell_type": "markdown",
   "id": "fb3f7751",
   "metadata": {},
   "source": [
    "#### Definindo os dados"
   ]
  },
  {
   "cell_type": "code",
   "execution_count": 2,
   "id": "54f76ead",
   "metadata": {},
   "outputs": [],
   "source": [
    "dict_metrics = {\"idade\": [15, 18, 25, 26, 40, 40, 58, 60],\n",
    "                \"altura\": [160, 165, 149, 168, 172, 174, 174, 178]}"
   ]
  },
  {
   "cell_type": "code",
   "execution_count": 3,
   "id": "e7178e9c",
   "metadata": {},
   "outputs": [
    {
     "data": {
      "text/plain": [
       "dict"
      ]
     },
     "execution_count": 3,
     "metadata": {},
     "output_type": "execute_result"
    }
   ],
   "source": [
    "type(dict_metrics)"
   ]
  },
  {
   "cell_type": "code",
   "execution_count": 4,
   "id": "0451e10b",
   "metadata": {},
   "outputs": [],
   "source": [
    "#Criar dataframe\n",
    "\n",
    "df = pd.DataFrame(dict_metrics)"
   ]
  },
  {
   "cell_type": "code",
   "execution_count": 5,
   "id": "28bcea11",
   "metadata": {},
   "outputs": [
    {
     "data": {
      "text/plain": [
       "pandas.core.frame.DataFrame"
      ]
     },
     "execution_count": 5,
     "metadata": {},
     "output_type": "execute_result"
    }
   ],
   "source": [
    "type(df)"
   ]
  },
  {
   "cell_type": "code",
   "execution_count": 6,
   "id": "63bdff1b",
   "metadata": {},
   "outputs": [
    {
     "data": {
      "text/html": [
       "<div>\n",
       "<style scoped>\n",
       "    .dataframe tbody tr th:only-of-type {\n",
       "        vertical-align: middle;\n",
       "    }\n",
       "\n",
       "    .dataframe tbody tr th {\n",
       "        vertical-align: top;\n",
       "    }\n",
       "\n",
       "    .dataframe thead th {\n",
       "        text-align: right;\n",
       "    }\n",
       "</style>\n",
       "<table border=\"1\" class=\"dataframe\">\n",
       "  <thead>\n",
       "    <tr style=\"text-align: right;\">\n",
       "      <th></th>\n",
       "      <th>idade</th>\n",
       "      <th>altura</th>\n",
       "    </tr>\n",
       "  </thead>\n",
       "  <tbody>\n",
       "    <tr>\n",
       "      <th>0</th>\n",
       "      <td>15</td>\n",
       "      <td>160</td>\n",
       "    </tr>\n",
       "    <tr>\n",
       "      <th>1</th>\n",
       "      <td>18</td>\n",
       "      <td>165</td>\n",
       "    </tr>\n",
       "    <tr>\n",
       "      <th>2</th>\n",
       "      <td>25</td>\n",
       "      <td>149</td>\n",
       "    </tr>\n",
       "    <tr>\n",
       "      <th>3</th>\n",
       "      <td>26</td>\n",
       "      <td>168</td>\n",
       "    </tr>\n",
       "    <tr>\n",
       "      <th>4</th>\n",
       "      <td>40</td>\n",
       "      <td>172</td>\n",
       "    </tr>\n",
       "    <tr>\n",
       "      <th>5</th>\n",
       "      <td>40</td>\n",
       "      <td>174</td>\n",
       "    </tr>\n",
       "    <tr>\n",
       "      <th>6</th>\n",
       "      <td>58</td>\n",
       "      <td>174</td>\n",
       "    </tr>\n",
       "    <tr>\n",
       "      <th>7</th>\n",
       "      <td>60</td>\n",
       "      <td>178</td>\n",
       "    </tr>\n",
       "  </tbody>\n",
       "</table>\n",
       "</div>"
      ],
      "text/plain": [
       "   idade  altura\n",
       "0     15     160\n",
       "1     18     165\n",
       "2     25     149\n",
       "3     26     168\n",
       "4     40     172\n",
       "5     40     174\n",
       "6     58     174\n",
       "7     60     178"
      ]
     },
     "execution_count": 6,
     "metadata": {},
     "output_type": "execute_result"
    }
   ],
   "source": [
    "df"
   ]
  },
  {
   "cell_type": "markdown",
   "id": "2cf13b90",
   "metadata": {},
   "source": [
    "#### Medidas de posição\n",
    "- Média: soma de todos os valores dividida pelo número de valores. É a medida mais comum de tendência central. Pode ser sensível a valores extremos.\n",
    "- Mediana: É o valor do meio quando os dados estão ordenados. Não sofre por valores extremos. É útil em distribuições assimétricas.\n",
    "- Moda: É o valor que ocorre com maior frequência. É útil em dados categóricos ou quando deseja-se identificar valores com maior frequência.\n"
   ]
  },
  {
   "cell_type": "code",
   "execution_count": 8,
   "id": "d5fd503a",
   "metadata": {},
   "outputs": [
    {
     "data": {
      "text/plain": [
       "0    15\n",
       "1    18\n",
       "2    25\n",
       "3    26\n",
       "4    40\n",
       "5    40\n",
       "6    58\n",
       "7    60\n",
       "Name: idade, dtype: int64"
      ]
     },
     "execution_count": 8,
     "metadata": {},
     "output_type": "execute_result"
    }
   ],
   "source": [
    "#Duas formas de acessar uma coluna no dataframe\n",
    "\n",
    "df[\"idade\"] #OU\n"
   ]
  },
  {
   "cell_type": "code",
   "execution_count": 9,
   "id": "f994000b",
   "metadata": {},
   "outputs": [
    {
     "data": {
      "text/plain": [
       "0    15\n",
       "1    18\n",
       "2    25\n",
       "3    26\n",
       "4    40\n",
       "5    40\n",
       "6    58\n",
       "7    60\n",
       "Name: idade, dtype: int64"
      ]
     },
     "execution_count": 9,
     "metadata": {},
     "output_type": "execute_result"
    }
   ],
   "source": [
    "df.idade"
   ]
  },
  {
   "cell_type": "code",
   "execution_count": 12,
   "id": "ef15565f",
   "metadata": {},
   "outputs": [
    {
     "name": "stdout",
     "output_type": "stream",
     "text": [
      "A média da idade é: 35.25 anos.\n",
      "A média da altura é: 167.5 cm.\n"
     ]
    }
   ],
   "source": [
    "#Média de cada coluna\n",
    "\n",
    "print(f'A média da idade é: {df[\"idade\"].mean()} anos.')\n",
    "print(f'A média da altura é: {df[\"altura\"].mean()} cm.')"
   ]
  },
  {
   "cell_type": "code",
   "execution_count": 20,
   "id": "e5636e36",
   "metadata": {},
   "outputs": [
    {
     "name": "stdout",
     "output_type": "stream",
     "text": [
      "A mediana da idade é: 33.0 anos.\n",
      "A mediana da altura é: 170.0 cm.\n"
     ]
    }
   ],
   "source": [
    "##Mediana de cada coluna\n",
    "\n",
    "print(f'A mediana da idade é: {df[\"idade\"].median()} anos.')\n",
    "print(f'A mediana da altura é: {df[\"altura\"].median()} cm.')"
   ]
  },
  {
   "cell_type": "code",
   "execution_count": 21,
   "id": "a8bb1d48",
   "metadata": {},
   "outputs": [
    {
     "name": "stdout",
     "output_type": "stream",
     "text": [
      "A moda da idade é: 0    40\n",
      "Name: idade, dtype: int64 anos.\n",
      "A moda da altura é: 0    174\n",
      "Name: altura, dtype: int64 cm.\n"
     ]
    }
   ],
   "source": [
    "##Moda de cada coluna\n",
    "\n",
    "print(f'A moda da idade é: {df[\"idade\"].mode()} anos.')\n",
    "print(f'A moda da altura é: {df[\"altura\"].mode()} cm.')"
   ]
  }
 ],
 "metadata": {
  "kernelspec": {
   "display_name": "base",
   "language": "python",
   "name": "python3"
  },
  "language_info": {
   "codemirror_mode": {
    "name": "ipython",
    "version": 3
   },
   "file_extension": ".py",
   "mimetype": "text/x-python",
   "name": "python",
   "nbconvert_exporter": "python",
   "pygments_lexer": "ipython3",
   "version": "3.12.7"
  }
 },
 "nbformat": 4,
 "nbformat_minor": 5
}
