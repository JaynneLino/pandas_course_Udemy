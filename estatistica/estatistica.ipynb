{
 "cells": [
  {
   "cell_type": "code",
   "execution_count": 1,
   "id": "8c4eb100",
   "metadata": {},
   "outputs": [
    {
     "data": {
      "text/plain": [
       "'2.2.2'"
      ]
     },
     "execution_count": 1,
     "metadata": {},
     "output_type": "execute_result"
    }
   ],
   "source": [
    "import pandas as pd\n",
    "pd.__version__"
   ]
  },
  {
   "cell_type": "markdown",
   "id": "fb3f7751",
   "metadata": {},
   "source": [
    "#### Definindo os dados"
   ]
  },
  {
   "cell_type": "code",
   "execution_count": 2,
   "id": "54f76ead",
   "metadata": {},
   "outputs": [],
   "source": [
    "dict_metrics = {\"idade\": [15, 18, 25, 26, 40, 40, 58, 60],\n",
    "                \"altura\": [160, 165, 149, 168, 172, 174, 174, 178]}"
   ]
  },
  {
   "cell_type": "code",
   "execution_count": 3,
   "id": "e7178e9c",
   "metadata": {},
   "outputs": [
    {
     "data": {
      "text/plain": [
       "dict"
      ]
     },
     "execution_count": 3,
     "metadata": {},
     "output_type": "execute_result"
    }
   ],
   "source": [
    "type(dict_metrics)"
   ]
  },
  {
   "cell_type": "code",
   "execution_count": 4,
   "id": "0451e10b",
   "metadata": {},
   "outputs": [],
   "source": [
    "#Criar dataframe\n",
    "\n",
    "df = pd.DataFrame(dict_metrics)"
   ]
  },
  {
   "cell_type": "code",
   "execution_count": 5,
   "id": "28bcea11",
   "metadata": {},
   "outputs": [
    {
     "data": {
      "text/plain": [
       "pandas.core.frame.DataFrame"
      ]
     },
     "execution_count": 5,
     "metadata": {},
     "output_type": "execute_result"
    }
   ],
   "source": [
    "type(df)"
   ]
  },
  {
   "cell_type": "code",
   "execution_count": 6,
   "id": "63bdff1b",
   "metadata": {},
   "outputs": [
    {
     "data": {
      "text/html": [
       "<div>\n",
       "<style scoped>\n",
       "    .dataframe tbody tr th:only-of-type {\n",
       "        vertical-align: middle;\n",
       "    }\n",
       "\n",
       "    .dataframe tbody tr th {\n",
       "        vertical-align: top;\n",
       "    }\n",
       "\n",
       "    .dataframe thead th {\n",
       "        text-align: right;\n",
       "    }\n",
       "</style>\n",
       "<table border=\"1\" class=\"dataframe\">\n",
       "  <thead>\n",
       "    <tr style=\"text-align: right;\">\n",
       "      <th></th>\n",
       "      <th>idade</th>\n",
       "      <th>altura</th>\n",
       "    </tr>\n",
       "  </thead>\n",
       "  <tbody>\n",
       "    <tr>\n",
       "      <th>0</th>\n",
       "      <td>15</td>\n",
       "      <td>160</td>\n",
       "    </tr>\n",
       "    <tr>\n",
       "      <th>1</th>\n",
       "      <td>18</td>\n",
       "      <td>165</td>\n",
       "    </tr>\n",
       "    <tr>\n",
       "      <th>2</th>\n",
       "      <td>25</td>\n",
       "      <td>149</td>\n",
       "    </tr>\n",
       "    <tr>\n",
       "      <th>3</th>\n",
       "      <td>26</td>\n",
       "      <td>168</td>\n",
       "    </tr>\n",
       "    <tr>\n",
       "      <th>4</th>\n",
       "      <td>40</td>\n",
       "      <td>172</td>\n",
       "    </tr>\n",
       "    <tr>\n",
       "      <th>5</th>\n",
       "      <td>40</td>\n",
       "      <td>174</td>\n",
       "    </tr>\n",
       "    <tr>\n",
       "      <th>6</th>\n",
       "      <td>58</td>\n",
       "      <td>174</td>\n",
       "    </tr>\n",
       "    <tr>\n",
       "      <th>7</th>\n",
       "      <td>60</td>\n",
       "      <td>178</td>\n",
       "    </tr>\n",
       "  </tbody>\n",
       "</table>\n",
       "</div>"
      ],
      "text/plain": [
       "   idade  altura\n",
       "0     15     160\n",
       "1     18     165\n",
       "2     25     149\n",
       "3     26     168\n",
       "4     40     172\n",
       "5     40     174\n",
       "6     58     174\n",
       "7     60     178"
      ]
     },
     "execution_count": 6,
     "metadata": {},
     "output_type": "execute_result"
    }
   ],
   "source": [
    "df"
   ]
  },
  {
   "cell_type": "markdown",
   "id": "2cf13b90",
   "metadata": {},
   "source": [
    "#### Medidas de posição\n",
    "- Média: soma de todos os valores dividida pelo número de valores. É a medida mais comum de tendência central. Pode ser sensível a valores extremos.\n",
    "- Mediana: É o valor do meio quando os dados estão ordenados. Não sofre por valores extremos. É útil em distribuições assimétricas.\n",
    "- Moda: É o valor que ocorre com maior frequência. É útil em dados categóricos ou quando deseja-se identificar valores com maior frequência.\n"
   ]
  },
  {
   "cell_type": "code",
   "execution_count": 8,
   "id": "d5fd503a",
   "metadata": {},
   "outputs": [
    {
     "data": {
      "text/plain": [
       "0    15\n",
       "1    18\n",
       "2    25\n",
       "3    26\n",
       "4    40\n",
       "5    40\n",
       "6    58\n",
       "7    60\n",
       "Name: idade, dtype: int64"
      ]
     },
     "execution_count": 8,
     "metadata": {},
     "output_type": "execute_result"
    }
   ],
   "source": [
    "#Duas formas de acessar uma coluna no dataframe\n",
    "\n",
    "df[\"idade\"] #OU\n"
   ]
  },
  {
   "cell_type": "code",
   "execution_count": 9,
   "id": "f994000b",
   "metadata": {},
   "outputs": [
    {
     "data": {
      "text/plain": [
       "0    15\n",
       "1    18\n",
       "2    25\n",
       "3    26\n",
       "4    40\n",
       "5    40\n",
       "6    58\n",
       "7    60\n",
       "Name: idade, dtype: int64"
      ]
     },
     "execution_count": 9,
     "metadata": {},
     "output_type": "execute_result"
    }
   ],
   "source": [
    "df.idade"
   ]
  },
  {
   "cell_type": "code",
   "execution_count": 12,
   "id": "ef15565f",
   "metadata": {},
   "outputs": [
    {
     "name": "stdout",
     "output_type": "stream",
     "text": [
      "A média da idade é: 35.25 anos.\n",
      "A média da altura é: 167.5 cm.\n"
     ]
    }
   ],
   "source": [
    "#Média de cada coluna\n",
    "\n",
    "print(f'A média da idade é: {df[\"idade\"].mean()} anos.')\n",
    "print(f'A média da altura é: {df[\"altura\"].mean()} cm.')"
   ]
  },
  {
   "cell_type": "code",
   "execution_count": 20,
   "id": "e5636e36",
   "metadata": {},
   "outputs": [
    {
     "name": "stdout",
     "output_type": "stream",
     "text": [
      "A mediana da idade é: 33.0 anos.\n",
      "A mediana da altura é: 170.0 cm.\n"
     ]
    }
   ],
   "source": [
    "##Mediana de cada coluna\n",
    "\n",
    "print(f'A mediana da idade é: {df[\"idade\"].median()} anos.')\n",
    "print(f'A mediana da altura é: {df[\"altura\"].median()} cm.')"
   ]
  },
  {
   "cell_type": "code",
   "execution_count": 21,
   "id": "a8bb1d48",
   "metadata": {},
   "outputs": [
    {
     "name": "stdout",
     "output_type": "stream",
     "text": [
      "A moda da idade é: 0    40\n",
      "Name: idade, dtype: int64 anos.\n",
      "A moda da altura é: 0    174\n",
      "Name: altura, dtype: int64 cm.\n"
     ]
    }
   ],
   "source": [
    "##Moda de cada coluna\n",
    "\n",
    "print(f'A moda da idade é: {df[\"idade\"].mode()} anos.')\n",
    "print(f'A moda da altura é: {df[\"altura\"].mode()} cm.')"
   ]
  },
  {
   "cell_type": "markdown",
   "id": "473c0958",
   "metadata": {},
   "source": [
    "#### Medidas de dispersão\n",
    "\n",
    "- Variância: É a média dos quadrados entre cada valor e a média. Informa quão distantes os valores estão da média.\n",
    "- Desvio padrão: É a medidade de dispersão mais usdada. É a raiz quadrada da variância. Expressa a dispersão em termos da mesma unidade dos dados.\n",
    "- Coeficiente de variação: É o desvio padrão dividido pela média, expresso em porcentagem. Indica a variabilidade relativa dos dados em relação à média. \n",
    "\n"
   ]
  },
  {
   "cell_type": "code",
   "execution_count": 24,
   "id": "95aa9f17",
   "metadata": {},
   "outputs": [
    {
     "name": "stdout",
     "output_type": "stream",
     "text": [
      "Variância de idade: 296.21\n",
      "Variância de altura: 88.57\n"
     ]
    }
   ],
   "source": [
    "#Variância\n",
    "print(f'Variância de idade: {df[\"idade\"].var():.2f}')\n",
    "print(f'Variância de altura: {df[\"altura\"].var():.2f}')"
   ]
  },
  {
   "cell_type": "code",
   "execution_count": 27,
   "id": "08f3f25a",
   "metadata": {},
   "outputs": [
    {
     "name": "stdout",
     "output_type": "stream",
     "text": [
      "Desvio padrão da idade: 17.21\n",
      "Desvio padrão da altura: 9.41\n"
     ]
    }
   ],
   "source": [
    "#Desvio padrão\n",
    "\n",
    "print(f'Desvio padrão da idade: {df[\"idade\"].std():.2f}')\n",
    "print(f'Desvio padrão da altura: {df[\"altura\"].std():.2f}')\n",
    "\n",
    "#Pelo resultado verificamos que a altura está mais próxima da média que a idade.\n"
   ]
  },
  {
   "cell_type": "code",
   "execution_count": 30,
   "id": "fd5ec9ab",
   "metadata": {},
   "outputs": [
    {
     "name": "stdout",
     "output_type": "stream",
     "text": [
      "Coeficiente de variação da idade: 48.83%\n",
      "Coeficiente de variação da altura: 5.62%\n"
     ]
    }
   ],
   "source": [
    "#Coeficiente de variação\n",
    "cof_idade = df[\"idade\"].std() / df[\"idade\"].mean() * 100\n",
    "cof_altura = df[\"altura\"].std() / df[\"altura\"].mean() * 100\n",
    "\n",
    "print(f'Coeficiente de variação da idade: {cof_idade:.2f}%')\n",
    "print(f'Coeficiente de variação da altura: {cof_altura:.2f}%')"
   ]
  },
  {
   "cell_type": "markdown",
   "id": "0268e3bf",
   "metadata": {},
   "source": [
    "#### Medidas de formas (Distribuição dos dados)\n",
    "\n",
    "- Assimétrica: indica o grau e a direção da distorção da distribuição em relação à média. Se positiva, indica a cauda direita da distribuição mais longa. Já o oposto, indica a cauda esquerda mais longa.\n",
    "- Curtose: mede o pico ou \"pontuação\" da distribuição. Uma curtose alta indica uma distribuição mais concentrada, já o oposto, indica uma distribuição mais achatada."
   ]
  },
  {
   "cell_type": "code",
   "execution_count": 31,
   "id": "35ba314b",
   "metadata": {},
   "outputs": [
    {
     "data": {
      "text/html": [
       "<div>\n",
       "<style scoped>\n",
       "    .dataframe tbody tr th:only-of-type {\n",
       "        vertical-align: middle;\n",
       "    }\n",
       "\n",
       "    .dataframe tbody tr th {\n",
       "        vertical-align: top;\n",
       "    }\n",
       "\n",
       "    .dataframe thead th {\n",
       "        text-align: right;\n",
       "    }\n",
       "</style>\n",
       "<table border=\"1\" class=\"dataframe\">\n",
       "  <thead>\n",
       "    <tr style=\"text-align: right;\">\n",
       "      <th></th>\n",
       "      <th>idade</th>\n",
       "      <th>altura</th>\n",
       "    </tr>\n",
       "  </thead>\n",
       "  <tbody>\n",
       "    <tr>\n",
       "      <th>0</th>\n",
       "      <td>15</td>\n",
       "      <td>160</td>\n",
       "    </tr>\n",
       "    <tr>\n",
       "      <th>1</th>\n",
       "      <td>18</td>\n",
       "      <td>165</td>\n",
       "    </tr>\n",
       "    <tr>\n",
       "      <th>2</th>\n",
       "      <td>25</td>\n",
       "      <td>149</td>\n",
       "    </tr>\n",
       "    <tr>\n",
       "      <th>3</th>\n",
       "      <td>26</td>\n",
       "      <td>168</td>\n",
       "    </tr>\n",
       "    <tr>\n",
       "      <th>4</th>\n",
       "      <td>40</td>\n",
       "      <td>172</td>\n",
       "    </tr>\n",
       "    <tr>\n",
       "      <th>5</th>\n",
       "      <td>40</td>\n",
       "      <td>174</td>\n",
       "    </tr>\n",
       "    <tr>\n",
       "      <th>6</th>\n",
       "      <td>58</td>\n",
       "      <td>174</td>\n",
       "    </tr>\n",
       "    <tr>\n",
       "      <th>7</th>\n",
       "      <td>60</td>\n",
       "      <td>178</td>\n",
       "    </tr>\n",
       "  </tbody>\n",
       "</table>\n",
       "</div>"
      ],
      "text/plain": [
       "   idade  altura\n",
       "0     15     160\n",
       "1     18     165\n",
       "2     25     149\n",
       "3     26     168\n",
       "4     40     172\n",
       "5     40     174\n",
       "6     58     174\n",
       "7     60     178"
      ]
     },
     "execution_count": 31,
     "metadata": {},
     "output_type": "execute_result"
    }
   ],
   "source": [
    "df"
   ]
  },
  {
   "cell_type": "code",
   "execution_count": 34,
   "id": "8ace0169",
   "metadata": {},
   "outputs": [
    {
     "name": "stdout",
     "output_type": "stream",
     "text": [
      "Assimetria de idade: 0.44\n",
      "Assimetria de altura: -1.14\n"
     ]
    }
   ],
   "source": [
    "#Assimetrica\n",
    "\n",
    "print(f'Assimetria de idade: {df[\"idade\"].skew():.2f}')\n",
    "#Assimettria de idade positiva: valores maiores estão mais espalhados.\n",
    "print(f'Assimetria de altura: {df[\"altura\"].skew():.2f}')\n",
    "#Assimettria de altura negativa: valores maiores estão mais próximos."
   ]
  },
  {
   "cell_type": "code",
   "execution_count": 38,
   "id": "82afa0b1",
   "metadata": {},
   "outputs": [
    {
     "name": "stdout",
     "output_type": "stream",
     "text": [
      "Curtose de idade: -1.31\n",
      "Curtose de altura: 1.06\n"
     ]
    }
   ],
   "source": [
    "#Curtose\n",
    "\n",
    "print(f'Curtose de idade: {df[\"idade\"].kurtosis():.2f}')\n",
    "#Curtose da idade negativa: dados estão mais espalhados.\n",
    "print(f'Curtose de altura: {df[\"altura\"].kurtosis():.2f}')\n",
    "#Curtose da altura positiva: valores mais concentrados na média."
   ]
  },
  {
   "cell_type": "code",
   "execution_count": 39,
   "id": "42783582",
   "metadata": {},
   "outputs": [
    {
     "data": {
      "text/html": [
       "<div>\n",
       "<style scoped>\n",
       "    .dataframe tbody tr th:only-of-type {\n",
       "        vertical-align: middle;\n",
       "    }\n",
       "\n",
       "    .dataframe tbody tr th {\n",
       "        vertical-align: top;\n",
       "    }\n",
       "\n",
       "    .dataframe thead th {\n",
       "        text-align: right;\n",
       "    }\n",
       "</style>\n",
       "<table border=\"1\" class=\"dataframe\">\n",
       "  <thead>\n",
       "    <tr style=\"text-align: right;\">\n",
       "      <th></th>\n",
       "      <th>idade</th>\n",
       "      <th>altura</th>\n",
       "    </tr>\n",
       "  </thead>\n",
       "  <tbody>\n",
       "    <tr>\n",
       "      <th>count</th>\n",
       "      <td>8.000000</td>\n",
       "      <td>8.000000</td>\n",
       "    </tr>\n",
       "    <tr>\n",
       "      <th>mean</th>\n",
       "      <td>35.250000</td>\n",
       "      <td>167.500000</td>\n",
       "    </tr>\n",
       "    <tr>\n",
       "      <th>std</th>\n",
       "      <td>17.210877</td>\n",
       "      <td>9.411239</td>\n",
       "    </tr>\n",
       "    <tr>\n",
       "      <th>min</th>\n",
       "      <td>15.000000</td>\n",
       "      <td>149.000000</td>\n",
       "    </tr>\n",
       "    <tr>\n",
       "      <th>25%</th>\n",
       "      <td>23.250000</td>\n",
       "      <td>163.750000</td>\n",
       "    </tr>\n",
       "    <tr>\n",
       "      <th>50%</th>\n",
       "      <td>33.000000</td>\n",
       "      <td>170.000000</td>\n",
       "    </tr>\n",
       "    <tr>\n",
       "      <th>75%</th>\n",
       "      <td>44.500000</td>\n",
       "      <td>174.000000</td>\n",
       "    </tr>\n",
       "    <tr>\n",
       "      <th>max</th>\n",
       "      <td>60.000000</td>\n",
       "      <td>178.000000</td>\n",
       "    </tr>\n",
       "  </tbody>\n",
       "</table>\n",
       "</div>"
      ],
      "text/plain": [
       "           idade      altura\n",
       "count   8.000000    8.000000\n",
       "mean   35.250000  167.500000\n",
       "std    17.210877    9.411239\n",
       "min    15.000000  149.000000\n",
       "25%    23.250000  163.750000\n",
       "50%    33.000000  170.000000\n",
       "75%    44.500000  174.000000\n",
       "max    60.000000  178.000000"
      ]
     },
     "execution_count": 39,
     "metadata": {},
     "output_type": "execute_result"
    }
   ],
   "source": [
    "#Traz algumas informações estatísticas\n",
    "df.describe()"
   ]
  },
  {
   "cell_type": "markdown",
   "id": "168e4b8e",
   "metadata": {},
   "source": [
    "#### Correlação\n",
    "\n",
    "- Mede a relação entre duas variáveis. Se positiva, as variáveis aumentam juntas. Caso contrário, uma aumenta enquanto a outra diminui. Ou se não há nenhum correlação.\n",
    "- Ajuda a selecionar características relevantes para os modelos, melhorando a precisão e a interpretabilidade."
   ]
  },
  {
   "cell_type": "markdown",
   "id": "51f70cdf",
   "metadata": {},
   "source": [
    "##### Índices de correlação\n",
    "\n",
    "- Coeficiente de Pearson: mede a relação linear entre duas variáveis, variando de -1 a 1. E 0 para nenhuma correlação.\n",
    "- Coeficiente de Spearman: é útil quando os dados não tem uma relação linear clara ou quando as variáveis não são númericamente escalonáveis.\n",
    "- Pearson: para relações lineares e variáveis conítnuas. Spearman: relações não lineares, ordinais ou com outliers."
   ]
  },
  {
   "cell_type": "code",
   "execution_count": 40,
   "id": "47114f24",
   "metadata": {},
   "outputs": [
    {
     "data": {
      "text/html": [
       "<div>\n",
       "<style scoped>\n",
       "    .dataframe tbody tr th:only-of-type {\n",
       "        vertical-align: middle;\n",
       "    }\n",
       "\n",
       "    .dataframe tbody tr th {\n",
       "        vertical-align: top;\n",
       "    }\n",
       "\n",
       "    .dataframe thead th {\n",
       "        text-align: right;\n",
       "    }\n",
       "</style>\n",
       "<table border=\"1\" class=\"dataframe\">\n",
       "  <thead>\n",
       "    <tr style=\"text-align: right;\">\n",
       "      <th></th>\n",
       "      <th>idade</th>\n",
       "      <th>altura</th>\n",
       "    </tr>\n",
       "  </thead>\n",
       "  <tbody>\n",
       "    <tr>\n",
       "      <th>idade</th>\n",
       "      <td>1.000000</td>\n",
       "      <td>0.740852</td>\n",
       "    </tr>\n",
       "    <tr>\n",
       "      <th>altura</th>\n",
       "      <td>0.740852</td>\n",
       "      <td>1.000000</td>\n",
       "    </tr>\n",
       "  </tbody>\n",
       "</table>\n",
       "</div>"
      ],
      "text/plain": [
       "           idade    altura\n",
       "idade   1.000000  0.740852\n",
       "altura  0.740852  1.000000"
      ]
     },
     "execution_count": 40,
     "metadata": {},
     "output_type": "execute_result"
    }
   ],
   "source": [
    "df.corr(method=\"pearson\")"
   ]
  },
  {
   "cell_type": "code",
   "execution_count": 41,
   "id": "59d1fd71",
   "metadata": {},
   "outputs": [
    {
     "data": {
      "text/html": [
       "<div>\n",
       "<style scoped>\n",
       "    .dataframe tbody tr th:only-of-type {\n",
       "        vertical-align: middle;\n",
       "    }\n",
       "\n",
       "    .dataframe tbody tr th {\n",
       "        vertical-align: top;\n",
       "    }\n",
       "\n",
       "    .dataframe thead th {\n",
       "        text-align: right;\n",
       "    }\n",
       "</style>\n",
       "<table border=\"1\" class=\"dataframe\">\n",
       "  <thead>\n",
       "    <tr style=\"text-align: right;\">\n",
       "      <th></th>\n",
       "      <th>idade</th>\n",
       "      <th>altura</th>\n",
       "    </tr>\n",
       "  </thead>\n",
       "  <tbody>\n",
       "    <tr>\n",
       "      <th>idade</th>\n",
       "      <td>1.000000</td>\n",
       "      <td>0.909639</td>\n",
       "    </tr>\n",
       "    <tr>\n",
       "      <th>altura</th>\n",
       "      <td>0.909639</td>\n",
       "      <td>1.000000</td>\n",
       "    </tr>\n",
       "  </tbody>\n",
       "</table>\n",
       "</div>"
      ],
      "text/plain": [
       "           idade    altura\n",
       "idade   1.000000  0.909639\n",
       "altura  0.909639  1.000000"
      ]
     },
     "execution_count": 41,
     "metadata": {},
     "output_type": "execute_result"
    }
   ],
   "source": [
    "df.corr(method=\"spearman\")"
   ]
  },
  {
   "cell_type": "code",
   "execution_count": 43,
   "id": "214d83a8",
   "metadata": {},
   "outputs": [
    {
     "data": {
      "text/plain": [
       "0.7408519382898473"
      ]
     },
     "execution_count": 43,
     "metadata": {},
     "output_type": "execute_result"
    }
   ],
   "source": [
    "#Especificando as colunas:\n",
    "\n",
    "df[\"altura\"].corr(df[\"idade\"], method=\"pearson\")"
   ]
  },
  {
   "cell_type": "code",
   "execution_count": 44,
   "id": "a5fbd700",
   "metadata": {},
   "outputs": [
    {
     "data": {
      "text/plain": [
       "0.9096385542168675"
      ]
     },
     "execution_count": 44,
     "metadata": {},
     "output_type": "execute_result"
    }
   ],
   "source": [
    "df[\"altura\"].corr(df[\"idade\"], method=\"spearman\")"
   ]
  }
 ],
 "metadata": {
  "kernelspec": {
   "display_name": "base",
   "language": "python",
   "name": "python3"
  },
  "language_info": {
   "codemirror_mode": {
    "name": "ipython",
    "version": 3
   },
   "file_extension": ".py",
   "mimetype": "text/x-python",
   "name": "python",
   "nbconvert_exporter": "python",
   "pygments_lexer": "ipython3",
   "version": "3.12.7"
  }
 },
 "nbformat": 4,
 "nbformat_minor": 5
}
