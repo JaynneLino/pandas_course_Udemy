{
 "cells": [
  {
   "cell_type": "code",
   "execution_count": 56,
   "id": "8c4eb100",
   "metadata": {},
   "outputs": [
    {
     "data": {
      "text/plain": [
       "'2.2.2'"
      ]
     },
     "execution_count": 56,
     "metadata": {},
     "output_type": "execute_result"
    }
   ],
   "source": [
    "import pandas as pd\n",
    "pd.__version__"
   ]
  },
  {
   "cell_type": "markdown",
   "id": "fb3f7751",
   "metadata": {},
   "source": [
    "#### Definindo os dados"
   ]
  },
  {
   "cell_type": "code",
   "execution_count": 57,
   "id": "54f76ead",
   "metadata": {},
   "outputs": [],
   "source": [
    "dict_metrics = {\"idade\": [15, 18, 25, 26, 40, 40, 58, 60],\n",
    "                \"altura\": [160, 165, 149, 168, 172, 174, 174, 178]}"
   ]
  },
  {
   "cell_type": "code",
   "execution_count": 58,
   "id": "e7178e9c",
   "metadata": {},
   "outputs": [
    {
     "data": {
      "text/plain": [
       "dict"
      ]
     },
     "execution_count": 58,
     "metadata": {},
     "output_type": "execute_result"
    }
   ],
   "source": [
    "type(dict_metrics)"
   ]
  },
  {
   "cell_type": "code",
   "execution_count": 59,
   "id": "0451e10b",
   "metadata": {},
   "outputs": [],
   "source": [
    "#Criar dataframe\n",
    "\n",
    "df = pd.DataFrame(dict_metrics)"
   ]
  },
  {
   "cell_type": "code",
   "execution_count": 60,
   "id": "28bcea11",
   "metadata": {},
   "outputs": [
    {
     "data": {
      "text/plain": [
       "pandas.core.frame.DataFrame"
      ]
     },
     "execution_count": 60,
     "metadata": {},
     "output_type": "execute_result"
    }
   ],
   "source": [
    "type(df)"
   ]
  },
  {
   "cell_type": "code",
   "execution_count": 61,
   "id": "63bdff1b",
   "metadata": {},
   "outputs": [
    {
     "data": {
      "text/html": [
       "<div>\n",
       "<style scoped>\n",
       "    .dataframe tbody tr th:only-of-type {\n",
       "        vertical-align: middle;\n",
       "    }\n",
       "\n",
       "    .dataframe tbody tr th {\n",
       "        vertical-align: top;\n",
       "    }\n",
       "\n",
       "    .dataframe thead th {\n",
       "        text-align: right;\n",
       "    }\n",
       "</style>\n",
       "<table border=\"1\" class=\"dataframe\">\n",
       "  <thead>\n",
       "    <tr style=\"text-align: right;\">\n",
       "      <th></th>\n",
       "      <th>idade</th>\n",
       "      <th>altura</th>\n",
       "    </tr>\n",
       "  </thead>\n",
       "  <tbody>\n",
       "    <tr>\n",
       "      <th>0</th>\n",
       "      <td>15</td>\n",
       "      <td>160</td>\n",
       "    </tr>\n",
       "    <tr>\n",
       "      <th>1</th>\n",
       "      <td>18</td>\n",
       "      <td>165</td>\n",
       "    </tr>\n",
       "    <tr>\n",
       "      <th>2</th>\n",
       "      <td>25</td>\n",
       "      <td>149</td>\n",
       "    </tr>\n",
       "    <tr>\n",
       "      <th>3</th>\n",
       "      <td>26</td>\n",
       "      <td>168</td>\n",
       "    </tr>\n",
       "    <tr>\n",
       "      <th>4</th>\n",
       "      <td>40</td>\n",
       "      <td>172</td>\n",
       "    </tr>\n",
       "    <tr>\n",
       "      <th>5</th>\n",
       "      <td>40</td>\n",
       "      <td>174</td>\n",
       "    </tr>\n",
       "    <tr>\n",
       "      <th>6</th>\n",
       "      <td>58</td>\n",
       "      <td>174</td>\n",
       "    </tr>\n",
       "    <tr>\n",
       "      <th>7</th>\n",
       "      <td>60</td>\n",
       "      <td>178</td>\n",
       "    </tr>\n",
       "  </tbody>\n",
       "</table>\n",
       "</div>"
      ],
      "text/plain": [
       "   idade  altura\n",
       "0     15     160\n",
       "1     18     165\n",
       "2     25     149\n",
       "3     26     168\n",
       "4     40     172\n",
       "5     40     174\n",
       "6     58     174\n",
       "7     60     178"
      ]
     },
     "execution_count": 61,
     "metadata": {},
     "output_type": "execute_result"
    }
   ],
   "source": [
    "df"
   ]
  },
  {
   "cell_type": "markdown",
   "id": "2cf13b90",
   "metadata": {},
   "source": [
    "#### Medidas de posição\n",
    "- Média: soma de todos os valores dividida pelo número de valores. É a medida mais comum de tendência central. Pode ser sensível a valores extremos.\n",
    "- Mediana: É o valor do meio quando os dados estão ordenados. Não sofre por valores extremos. É útil em distribuições assimétricas.\n",
    "- Moda: É o valor que ocorre com maior frequência. É útil em dados categóricos ou quando deseja-se identificar valores com maior frequência.\n"
   ]
  },
  {
   "cell_type": "code",
   "execution_count": 62,
   "id": "d5fd503a",
   "metadata": {},
   "outputs": [
    {
     "data": {
      "text/plain": [
       "0    15\n",
       "1    18\n",
       "2    25\n",
       "3    26\n",
       "4    40\n",
       "5    40\n",
       "6    58\n",
       "7    60\n",
       "Name: idade, dtype: int64"
      ]
     },
     "execution_count": 62,
     "metadata": {},
     "output_type": "execute_result"
    }
   ],
   "source": [
    "#Duas formas de acessar uma coluna no dataframe\n",
    "\n",
    "df[\"idade\"] #OU\n"
   ]
  },
  {
   "cell_type": "code",
   "execution_count": 63,
   "id": "f994000b",
   "metadata": {},
   "outputs": [
    {
     "data": {
      "text/plain": [
       "0    15\n",
       "1    18\n",
       "2    25\n",
       "3    26\n",
       "4    40\n",
       "5    40\n",
       "6    58\n",
       "7    60\n",
       "Name: idade, dtype: int64"
      ]
     },
     "execution_count": 63,
     "metadata": {},
     "output_type": "execute_result"
    }
   ],
   "source": [
    "df.idade"
   ]
  },
  {
   "cell_type": "code",
   "execution_count": 64,
   "id": "ef15565f",
   "metadata": {},
   "outputs": [
    {
     "name": "stdout",
     "output_type": "stream",
     "text": [
      "A média da idade é: 35.25 anos.\n",
      "A média da altura é: 167.5 cm.\n"
     ]
    }
   ],
   "source": [
    "#Média de cada coluna\n",
    "\n",
    "print(f'A média da idade é: {df[\"idade\"].mean()} anos.')\n",
    "print(f'A média da altura é: {df[\"altura\"].mean()} cm.')"
   ]
  },
  {
   "cell_type": "code",
   "execution_count": 65,
   "id": "e5636e36",
   "metadata": {},
   "outputs": [
    {
     "name": "stdout",
     "output_type": "stream",
     "text": [
      "A mediana da idade é: 33.0 anos.\n",
      "A mediana da altura é: 170.0 cm.\n"
     ]
    }
   ],
   "source": [
    "##Mediana de cada coluna\n",
    "\n",
    "print(f'A mediana da idade é: {df[\"idade\"].median()} anos.')\n",
    "print(f'A mediana da altura é: {df[\"altura\"].median()} cm.')"
   ]
  },
  {
   "cell_type": "code",
   "execution_count": 66,
   "id": "a8bb1d48",
   "metadata": {},
   "outputs": [
    {
     "name": "stdout",
     "output_type": "stream",
     "text": [
      "A moda da idade é: 0    40\n",
      "Name: idade, dtype: int64 anos.\n",
      "A moda da altura é: 0    174\n",
      "Name: altura, dtype: int64 cm.\n"
     ]
    }
   ],
   "source": [
    "##Moda de cada coluna\n",
    "\n",
    "print(f'A moda da idade é: {df[\"idade\"].mode()} anos.')\n",
    "print(f'A moda da altura é: {df[\"altura\"].mode()} cm.')"
   ]
  },
  {
   "cell_type": "markdown",
   "id": "473c0958",
   "metadata": {},
   "source": [
    "#### Medidas de dispersão\n",
    "\n",
    "- Variância: É a média dos quadrados entre cada valor e a média. Informa quão distantes os valores estão da média.\n",
    "- Desvio padrão: É a medidade de dispersão mais usdada. É a raiz quadrada da variância. Expressa a dispersão em termos da mesma unidade dos dados.\n",
    "- Coeficiente de variação: É o desvio padrão dividido pela média, expresso em porcentagem. Indica a variabilidade relativa dos dados em relação à média. \n",
    "\n"
   ]
  },
  {
   "cell_type": "code",
   "execution_count": 67,
   "id": "95aa9f17",
   "metadata": {},
   "outputs": [
    {
     "name": "stdout",
     "output_type": "stream",
     "text": [
      "Variância de idade: 296.21\n",
      "Variância de altura: 88.57\n"
     ]
    }
   ],
   "source": [
    "#Variância\n",
    "print(f'Variância de idade: {df[\"idade\"].var():.2f}')\n",
    "print(f'Variância de altura: {df[\"altura\"].var():.2f}')"
   ]
  },
  {
   "cell_type": "code",
   "execution_count": 68,
   "id": "08f3f25a",
   "metadata": {},
   "outputs": [
    {
     "name": "stdout",
     "output_type": "stream",
     "text": [
      "Desvio padrão da idade: 17.21\n",
      "Desvio padrão da altura: 9.41\n"
     ]
    }
   ],
   "source": [
    "#Desvio padrão\n",
    "\n",
    "print(f'Desvio padrão da idade: {df[\"idade\"].std():.2f}')\n",
    "print(f'Desvio padrão da altura: {df[\"altura\"].std():.2f}')\n",
    "\n",
    "#Pelo resultado verificamos que a altura está mais próxima da média que a idade.\n"
   ]
  },
  {
   "cell_type": "code",
   "execution_count": 69,
   "id": "fd5ec9ab",
   "metadata": {},
   "outputs": [
    {
     "name": "stdout",
     "output_type": "stream",
     "text": [
      "Coeficiente de variação da idade: 48.83%\n",
      "Coeficiente de variação da altura: 5.62%\n"
     ]
    }
   ],
   "source": [
    "#Coeficiente de variação\n",
    "cof_idade = df[\"idade\"].std() / df[\"idade\"].mean() * 100\n",
    "cof_altura = df[\"altura\"].std() / df[\"altura\"].mean() * 100\n",
    "\n",
    "print(f'Coeficiente de variação da idade: {cof_idade:.2f}%')\n",
    "print(f'Coeficiente de variação da altura: {cof_altura:.2f}%')"
   ]
  },
  {
   "cell_type": "markdown",
   "id": "0268e3bf",
   "metadata": {},
   "source": [
    "#### Medidas de formas (Distribuição dos dados)\n",
    "\n",
    "- Assimétrica: indica o grau e a direção da distorção da distribuição em relação à média. Se positiva, indica a cauda direita da distribuição mais longa. Já o oposto, indica a cauda esquerda mais longa.\n",
    "- Curtose: mede o pico ou \"pontuação\" da distribuição. Uma curtose alta indica uma distribuição mais concentrada, já o oposto, indica uma distribuição mais achatada."
   ]
  },
  {
   "cell_type": "code",
   "execution_count": 70,
   "id": "35ba314b",
   "metadata": {},
   "outputs": [
    {
     "data": {
      "text/html": [
       "<div>\n",
       "<style scoped>\n",
       "    .dataframe tbody tr th:only-of-type {\n",
       "        vertical-align: middle;\n",
       "    }\n",
       "\n",
       "    .dataframe tbody tr th {\n",
       "        vertical-align: top;\n",
       "    }\n",
       "\n",
       "    .dataframe thead th {\n",
       "        text-align: right;\n",
       "    }\n",
       "</style>\n",
       "<table border=\"1\" class=\"dataframe\">\n",
       "  <thead>\n",
       "    <tr style=\"text-align: right;\">\n",
       "      <th></th>\n",
       "      <th>idade</th>\n",
       "      <th>altura</th>\n",
       "    </tr>\n",
       "  </thead>\n",
       "  <tbody>\n",
       "    <tr>\n",
       "      <th>0</th>\n",
       "      <td>15</td>\n",
       "      <td>160</td>\n",
       "    </tr>\n",
       "    <tr>\n",
       "      <th>1</th>\n",
       "      <td>18</td>\n",
       "      <td>165</td>\n",
       "    </tr>\n",
       "    <tr>\n",
       "      <th>2</th>\n",
       "      <td>25</td>\n",
       "      <td>149</td>\n",
       "    </tr>\n",
       "    <tr>\n",
       "      <th>3</th>\n",
       "      <td>26</td>\n",
       "      <td>168</td>\n",
       "    </tr>\n",
       "    <tr>\n",
       "      <th>4</th>\n",
       "      <td>40</td>\n",
       "      <td>172</td>\n",
       "    </tr>\n",
       "    <tr>\n",
       "      <th>5</th>\n",
       "      <td>40</td>\n",
       "      <td>174</td>\n",
       "    </tr>\n",
       "    <tr>\n",
       "      <th>6</th>\n",
       "      <td>58</td>\n",
       "      <td>174</td>\n",
       "    </tr>\n",
       "    <tr>\n",
       "      <th>7</th>\n",
       "      <td>60</td>\n",
       "      <td>178</td>\n",
       "    </tr>\n",
       "  </tbody>\n",
       "</table>\n",
       "</div>"
      ],
      "text/plain": [
       "   idade  altura\n",
       "0     15     160\n",
       "1     18     165\n",
       "2     25     149\n",
       "3     26     168\n",
       "4     40     172\n",
       "5     40     174\n",
       "6     58     174\n",
       "7     60     178"
      ]
     },
     "execution_count": 70,
     "metadata": {},
     "output_type": "execute_result"
    }
   ],
   "source": [
    "df"
   ]
  },
  {
   "cell_type": "code",
   "execution_count": 71,
   "id": "8ace0169",
   "metadata": {},
   "outputs": [
    {
     "name": "stdout",
     "output_type": "stream",
     "text": [
      "Assimetria de idade: 0.44\n",
      "Assimetria de altura: -1.14\n"
     ]
    }
   ],
   "source": [
    "#Assimetrica\n",
    "\n",
    "print(f'Assimetria de idade: {df[\"idade\"].skew():.2f}')\n",
    "#Assimettria de idade positiva: valores maiores estão mais espalhados.\n",
    "print(f'Assimetria de altura: {df[\"altura\"].skew():.2f}')\n",
    "#Assimettria de altura negativa: valores maiores estão mais próximos."
   ]
  },
  {
   "cell_type": "code",
   "execution_count": 72,
   "id": "82afa0b1",
   "metadata": {},
   "outputs": [
    {
     "name": "stdout",
     "output_type": "stream",
     "text": [
      "Curtose de idade: -1.31\n",
      "Curtose de altura: 1.06\n"
     ]
    }
   ],
   "source": [
    "#Curtose\n",
    "\n",
    "print(f'Curtose de idade: {df[\"idade\"].kurtosis():.2f}')\n",
    "#Curtose da idade negativa: dados estão mais espalhados.\n",
    "print(f'Curtose de altura: {df[\"altura\"].kurtosis():.2f}')\n",
    "#Curtose da altura positiva: valores mais concentrados na média."
   ]
  },
  {
   "cell_type": "code",
   "execution_count": 73,
   "id": "42783582",
   "metadata": {},
   "outputs": [
    {
     "data": {
      "text/html": [
       "<div>\n",
       "<style scoped>\n",
       "    .dataframe tbody tr th:only-of-type {\n",
       "        vertical-align: middle;\n",
       "    }\n",
       "\n",
       "    .dataframe tbody tr th {\n",
       "        vertical-align: top;\n",
       "    }\n",
       "\n",
       "    .dataframe thead th {\n",
       "        text-align: right;\n",
       "    }\n",
       "</style>\n",
       "<table border=\"1\" class=\"dataframe\">\n",
       "  <thead>\n",
       "    <tr style=\"text-align: right;\">\n",
       "      <th></th>\n",
       "      <th>idade</th>\n",
       "      <th>altura</th>\n",
       "    </tr>\n",
       "  </thead>\n",
       "  <tbody>\n",
       "    <tr>\n",
       "      <th>count</th>\n",
       "      <td>8.000000</td>\n",
       "      <td>8.000000</td>\n",
       "    </tr>\n",
       "    <tr>\n",
       "      <th>mean</th>\n",
       "      <td>35.250000</td>\n",
       "      <td>167.500000</td>\n",
       "    </tr>\n",
       "    <tr>\n",
       "      <th>std</th>\n",
       "      <td>17.210877</td>\n",
       "      <td>9.411239</td>\n",
       "    </tr>\n",
       "    <tr>\n",
       "      <th>min</th>\n",
       "      <td>15.000000</td>\n",
       "      <td>149.000000</td>\n",
       "    </tr>\n",
       "    <tr>\n",
       "      <th>25%</th>\n",
       "      <td>23.250000</td>\n",
       "      <td>163.750000</td>\n",
       "    </tr>\n",
       "    <tr>\n",
       "      <th>50%</th>\n",
       "      <td>33.000000</td>\n",
       "      <td>170.000000</td>\n",
       "    </tr>\n",
       "    <tr>\n",
       "      <th>75%</th>\n",
       "      <td>44.500000</td>\n",
       "      <td>174.000000</td>\n",
       "    </tr>\n",
       "    <tr>\n",
       "      <th>max</th>\n",
       "      <td>60.000000</td>\n",
       "      <td>178.000000</td>\n",
       "    </tr>\n",
       "  </tbody>\n",
       "</table>\n",
       "</div>"
      ],
      "text/plain": [
       "           idade      altura\n",
       "count   8.000000    8.000000\n",
       "mean   35.250000  167.500000\n",
       "std    17.210877    9.411239\n",
       "min    15.000000  149.000000\n",
       "25%    23.250000  163.750000\n",
       "50%    33.000000  170.000000\n",
       "75%    44.500000  174.000000\n",
       "max    60.000000  178.000000"
      ]
     },
     "execution_count": 73,
     "metadata": {},
     "output_type": "execute_result"
    }
   ],
   "source": [
    "#Traz algumas informações estatísticas\n",
    "df.describe()"
   ]
  },
  {
   "cell_type": "markdown",
   "id": "168e4b8e",
   "metadata": {},
   "source": [
    "#### Correlação\n",
    "\n",
    "- Mede a relação entre duas variáveis. Se positiva, as variáveis aumentam juntas. Caso contrário, uma aumenta enquanto a outra diminui. Ou se não há nenhum correlação.\n",
    "- Ajuda a selecionar características relevantes para os modelos, melhorando a precisão e a interpretabilidade."
   ]
  },
  {
   "cell_type": "markdown",
   "id": "51f70cdf",
   "metadata": {},
   "source": [
    "##### Índices de correlação\n",
    "\n",
    "- Coeficiente de Pearson: mede a relação linear entre duas variáveis, variando de -1 a 1. E 0 para nenhuma correlação.\n",
    "- Coeficiente de Spearman: é útil quando os dados não tem uma relação linear clara ou quando as variáveis não são númericamente escalonáveis.\n",
    "- Pearson: para relações lineares e variáveis conítnuas. Spearman: relações não lineares, ordinais ou com outliers."
   ]
  },
  {
   "cell_type": "code",
   "execution_count": 74,
   "id": "47114f24",
   "metadata": {},
   "outputs": [
    {
     "data": {
      "text/html": [
       "<div>\n",
       "<style scoped>\n",
       "    .dataframe tbody tr th:only-of-type {\n",
       "        vertical-align: middle;\n",
       "    }\n",
       "\n",
       "    .dataframe tbody tr th {\n",
       "        vertical-align: top;\n",
       "    }\n",
       "\n",
       "    .dataframe thead th {\n",
       "        text-align: right;\n",
       "    }\n",
       "</style>\n",
       "<table border=\"1\" class=\"dataframe\">\n",
       "  <thead>\n",
       "    <tr style=\"text-align: right;\">\n",
       "      <th></th>\n",
       "      <th>idade</th>\n",
       "      <th>altura</th>\n",
       "    </tr>\n",
       "  </thead>\n",
       "  <tbody>\n",
       "    <tr>\n",
       "      <th>idade</th>\n",
       "      <td>1.000000</td>\n",
       "      <td>0.740852</td>\n",
       "    </tr>\n",
       "    <tr>\n",
       "      <th>altura</th>\n",
       "      <td>0.740852</td>\n",
       "      <td>1.000000</td>\n",
       "    </tr>\n",
       "  </tbody>\n",
       "</table>\n",
       "</div>"
      ],
      "text/plain": [
       "           idade    altura\n",
       "idade   1.000000  0.740852\n",
       "altura  0.740852  1.000000"
      ]
     },
     "execution_count": 74,
     "metadata": {},
     "output_type": "execute_result"
    }
   ],
   "source": [
    "df.corr(method=\"pearson\")"
   ]
  },
  {
   "cell_type": "code",
   "execution_count": 75,
   "id": "59d1fd71",
   "metadata": {},
   "outputs": [
    {
     "data": {
      "text/html": [
       "<div>\n",
       "<style scoped>\n",
       "    .dataframe tbody tr th:only-of-type {\n",
       "        vertical-align: middle;\n",
       "    }\n",
       "\n",
       "    .dataframe tbody tr th {\n",
       "        vertical-align: top;\n",
       "    }\n",
       "\n",
       "    .dataframe thead th {\n",
       "        text-align: right;\n",
       "    }\n",
       "</style>\n",
       "<table border=\"1\" class=\"dataframe\">\n",
       "  <thead>\n",
       "    <tr style=\"text-align: right;\">\n",
       "      <th></th>\n",
       "      <th>idade</th>\n",
       "      <th>altura</th>\n",
       "    </tr>\n",
       "  </thead>\n",
       "  <tbody>\n",
       "    <tr>\n",
       "      <th>idade</th>\n",
       "      <td>1.000000</td>\n",
       "      <td>0.909639</td>\n",
       "    </tr>\n",
       "    <tr>\n",
       "      <th>altura</th>\n",
       "      <td>0.909639</td>\n",
       "      <td>1.000000</td>\n",
       "    </tr>\n",
       "  </tbody>\n",
       "</table>\n",
       "</div>"
      ],
      "text/plain": [
       "           idade    altura\n",
       "idade   1.000000  0.909639\n",
       "altura  0.909639  1.000000"
      ]
     },
     "execution_count": 75,
     "metadata": {},
     "output_type": "execute_result"
    }
   ],
   "source": [
    "df.corr(method=\"spearman\")"
   ]
  },
  {
   "cell_type": "code",
   "execution_count": 76,
   "id": "214d83a8",
   "metadata": {},
   "outputs": [
    {
     "data": {
      "text/plain": [
       "0.7408519382898473"
      ]
     },
     "execution_count": 76,
     "metadata": {},
     "output_type": "execute_result"
    }
   ],
   "source": [
    "#Especificando as colunas:\n",
    "\n",
    "df[\"altura\"].corr(df[\"idade\"], method=\"pearson\")"
   ]
  },
  {
   "cell_type": "code",
   "execution_count": 77,
   "id": "a5fbd700",
   "metadata": {},
   "outputs": [
    {
     "data": {
      "text/plain": [
       "0.9096385542168675"
      ]
     },
     "execution_count": 77,
     "metadata": {},
     "output_type": "execute_result"
    }
   ],
   "source": [
    "df[\"altura\"].corr(df[\"idade\"], method=\"spearman\")"
   ]
  },
  {
   "cell_type": "markdown",
   "id": "56e99568",
   "metadata": {},
   "source": [
    "#### Histograma"
   ]
  },
  {
   "cell_type": "code",
   "execution_count": 78,
   "id": "bb3fbc5f",
   "metadata": {},
   "outputs": [
    {
     "data": {
      "text/plain": [
       "<Axes: >"
      ]
     },
     "execution_count": 78,
     "metadata": {},
     "output_type": "execute_result"
    },
    {
     "data": {
      "image/png": "[encoded data removed]",
      "text/plain": [
       "<Figure size 640x480 with 1 Axes>"
      ]
     },
     "metadata": {},
     "output_type": "display_data"
    }
   ],
   "source": [
    "\n",
    "df[\"idade\"].hist()"
   ]
  },
  {
   "cell_type": "code",
   "execution_count": 79,
   "id": "7636790f",
   "metadata": {},
   "outputs": [
    {
     "data": {
      "text/plain": [
       "<Axes: >"
      ]
     },
     "execution_count": 79,
     "metadata": {},
     "output_type": "execute_result"
    },
    {
     "data": {
      "image/png": "[encoded data removed]",
      "text/plain": [
       "<Figure size 640x480 with 1 Axes>"
      ]
     },
     "metadata": {},
     "output_type": "display_data"
    }
   ],
   "source": [
    "df[\"altura\"].hist()"
   ]
  },
  {
   "cell_type": "markdown",
   "id": "c5e6f35b",
   "metadata": {},
   "source": [
    "#### Box plot"
   ]
  },
  {
   "cell_type": "code",
   "execution_count": 80,
   "id": "f44b4710",
   "metadata": {},
   "outputs": [
    {
     "data": {
      "text/plain": [
       "<Axes: >"
      ]
     },
     "execution_count": 80,
     "metadata": {},
     "output_type": "execute_result"
    },
    {
     "data": {
      "image/png": "[encoded data removed]",
      "text/plain": [
       "<Figure size 640x480 with 1 Axes>"
      ]
     },
     "metadata": {},
     "output_type": "display_data"
    }
   ],
   "source": [
    "df.idade.plot.box()"
   ]
  },
  {
   "cell_type": "code",
   "execution_count": 81,
   "id": "eebb7ed6",
   "metadata": {},
   "outputs": [
    {
     "data": {
      "text/plain": [
       "<Axes: >"
      ]
     },
     "execution_count": 81,
     "metadata": {},
     "output_type": "execute_result"
    },
    {
     "data": {
      "image/png": "[encoded data removed]",
      "text/plain": [
       "<Figure size 640x480 with 1 Axes>"
      ]
     },
     "metadata": {},
     "output_type": "display_data"
    }
   ],
   "source": [
    "df.altura.plot.box()"
   ]
  },
  {
   "cell_type": "markdown",
   "id": "8ace0a97",
   "metadata": {},
   "source": [
    "#### Scatter plot ou gráfico de dispersão"
   ]
  },
  {
   "cell_type": "code",
   "execution_count": 82,
   "id": "76db8cd9",
   "metadata": {},
   "outputs": [
    {
     "data": {
      "text/plain": [
       "<Axes: xlabel='idade', ylabel='altura'>"
      ]
     },
     "execution_count": 82,
     "metadata": {},
     "output_type": "execute_result"
    },
    {
     "data": {
      "image/png": "[encoded data removed]",
      "text/plain": [
       "<Figure size 640x480 with 1 Axes>"
      ]
     },
     "metadata": {},
     "output_type": "display_data"
    }
   ],
   "source": [
    "df.plot.scatter(x=\"idade\", y=\"altura\")"
   ]
  },
  {
   "cell_type": "markdown",
   "id": "a668cb82",
   "metadata": {},
   "source": [
    "#### Gráfico de barras"
   ]
  },
  {
   "cell_type": "code",
   "execution_count": 83,
   "id": "00091566",
   "metadata": {},
   "outputs": [],
   "source": [
    "dic_vendas ={\n",
    "    \"categoria\": [\"eletrodomésticos\", \"games\", \"livros\", \"casa\"],\n",
    "    \"valor\": [20000, 50000, 10000, 200000],\n",
    "    \"quantidade\": [200, 500, 300, 1500]\n",
    "}"
   ]
  },
  {
   "cell_type": "code",
   "execution_count": 84,
   "id": "a9464316",
   "metadata": {},
   "outputs": [
    {
     "data": {
      "text/html": [
       "<div>\n",
       "<style scoped>\n",
       "    .dataframe tbody tr th:only-of-type {\n",
       "        vertical-align: middle;\n",
       "    }\n",
       "\n",
       "    .dataframe tbody tr th {\n",
       "        vertical-align: top;\n",
       "    }\n",
       "\n",
       "    .dataframe thead th {\n",
       "        text-align: right;\n",
       "    }\n",
       "</style>\n",
       "<table border=\"1\" class=\"dataframe\">\n",
       "  <thead>\n",
       "    <tr style=\"text-align: right;\">\n",
       "      <th></th>\n",
       "      <th>categoria</th>\n",
       "      <th>valor</th>\n",
       "      <th>quantidade</th>\n",
       "    </tr>\n",
       "  </thead>\n",
       "  <tbody>\n",
       "    <tr>\n",
       "      <th>0</th>\n",
       "      <td>eletrodomésticos</td>\n",
       "      <td>20000</td>\n",
       "      <td>200</td>\n",
       "    </tr>\n",
       "    <tr>\n",
       "      <th>1</th>\n",
       "      <td>games</td>\n",
       "      <td>50000</td>\n",
       "      <td>500</td>\n",
       "    </tr>\n",
       "    <tr>\n",
       "      <th>2</th>\n",
       "      <td>livros</td>\n",
       "      <td>10000</td>\n",
       "      <td>300</td>\n",
       "    </tr>\n",
       "    <tr>\n",
       "      <th>3</th>\n",
       "      <td>casa</td>\n",
       "      <td>200000</td>\n",
       "      <td>1500</td>\n",
       "    </tr>\n",
       "  </tbody>\n",
       "</table>\n",
       "</div>"
      ],
      "text/plain": [
       "          categoria   valor  quantidade\n",
       "0  eletrodomésticos   20000         200\n",
       "1             games   50000         500\n",
       "2            livros   10000         300\n",
       "3              casa  200000        1500"
      ]
     },
     "execution_count": 84,
     "metadata": {},
     "output_type": "execute_result"
    }
   ],
   "source": [
    "df_vendas = pd.DataFrame(dic_vendas)\n",
    "df_vendas"
   ]
  },
  {
   "cell_type": "code",
   "execution_count": 85,
   "id": "5dc11b8b",
   "metadata": {},
   "outputs": [
    {
     "data": {
      "text/plain": [
       "<Axes: xlabel='categoria'>"
      ]
     },
     "execution_count": 85,
     "metadata": {},
     "output_type": "execute_result"
    },
    {
     "data": {
      "image/png": "[encoded data removed]",
      "text/plain": [
       "<Figure size 640x480 with 1 Axes>"
      ]
     },
     "metadata": {},
     "output_type": "display_data"
    }
   ],
   "source": [
    "df_vendas.plot.bar(x=\"categoria\", y=\"valor\")"
   ]
  },
  {
   "cell_type": "code",
   "execution_count": 86,
   "id": "7eb30f78",
   "metadata": {},
   "outputs": [
    {
     "data": {
      "text/plain": [
       "<Axes: xlabel='categoria'>"
      ]
     },
     "execution_count": 86,
     "metadata": {},
     "output_type": "execute_result"
    },
    {
     "data": {
      "image/png": "[encoded data removed]",
      "text/plain": [
       "<Figure size 640x480 with 1 Axes>"
      ]
     },
     "metadata": {},
     "output_type": "display_data"
    }
   ],
   "source": [
    "#O mesmo gráfico ordenado pelo valor\n",
    "\n",
    "df_vendas.sort_values(\"valor\", ascending=False).plot.bar(x=\"categoria\", y=\"valor\")"
   ]
  },
  {
   "cell_type": "code",
   "execution_count": 87,
   "id": "2eca2bb7",
   "metadata": {},
   "outputs": [
    {
     "data": {
      "text/plain": [
       "<Axes: xlabel='categoria'>"
      ]
     },
     "execution_count": 87,
     "metadata": {},
     "output_type": "execute_result"
    },
    {
     "data": {
      "image/png": "[encoded data removed]",
      "text/plain": [
       "<Figure size 640x480 with 1 Axes>"
      ]
     },
     "metadata": {},
     "output_type": "display_data"
    }
   ],
   "source": [
    "#Gráfico de barras na vertical\n",
    "\n",
    "df_vendas.sort_values(\"quantidade\", ascending=False).plot.bar(x=\"categoria\", y=\"quantidade\")"
   ]
  },
  {
   "cell_type": "code",
   "execution_count": 89,
   "id": "352aad0b",
   "metadata": {},
   "outputs": [
    {
     "data": {
      "text/plain": [
       "<Axes: ylabel='categoria'>"
      ]
     },
     "execution_count": 89,
     "metadata": {},
     "output_type": "execute_result"
    },
    {
     "data": {
      "image/png": "[encoded data removed]",
      "text/plain": [
       "<Figure size 640x480 with 1 Axes>"
      ]
     },
     "metadata": {},
     "output_type": "display_data"
    }
   ],
   "source": [
    "#Gráfico de barras na horizontal\n",
    "\n",
    "df_vendas.sort_values(\"quantidade\", ascending=True).plot.barh(x=\"categoria\", y=\"quantidade\")"
   ]
  },
  {
   "cell_type": "markdown",
   "id": "435d34fb",
   "metadata": {},
   "source": [
    "#### Gráfico de linha"
   ]
  },
  {
   "cell_type": "code",
   "execution_count": 90,
   "id": "e5cc00ab",
   "metadata": {},
   "outputs": [],
   "source": [
    "dic_faturamento = { \"data\": [\"2020\", \"2021\", \"2022\", \"2023\", \"2024\", \"2025\"],\n",
    "                   \"valor\": [100000, 150000, 170000, 140000, 200000, 180000]\n",
    "\n",
    "}"
   ]
  },
  {
   "cell_type": "code",
   "execution_count": 92,
   "id": "aba2c6a1",
   "metadata": {},
   "outputs": [
    {
     "data": {
      "text/html": [
       "<div>\n",
       "<style scoped>\n",
       "    .dataframe tbody tr th:only-of-type {\n",
       "        vertical-align: middle;\n",
       "    }\n",
       "\n",
       "    .dataframe tbody tr th {\n",
       "        vertical-align: top;\n",
       "    }\n",
       "\n",
       "    .dataframe thead th {\n",
       "        text-align: right;\n",
       "    }\n",
       "</style>\n",
       "<table border=\"1\" class=\"dataframe\">\n",
       "  <thead>\n",
       "    <tr style=\"text-align: right;\">\n",
       "      <th></th>\n",
       "      <th>data</th>\n",
       "      <th>valor</th>\n",
       "    </tr>\n",
       "  </thead>\n",
       "  <tbody>\n",
       "    <tr>\n",
       "      <th>0</th>\n",
       "      <td>2020</td>\n",
       "      <td>100000</td>\n",
       "    </tr>\n",
       "    <tr>\n",
       "      <th>1</th>\n",
       "      <td>2021</td>\n",
       "      <td>150000</td>\n",
       "    </tr>\n",
       "    <tr>\n",
       "      <th>2</th>\n",
       "      <td>2022</td>\n",
       "      <td>170000</td>\n",
       "    </tr>\n",
       "    <tr>\n",
       "      <th>3</th>\n",
       "      <td>2023</td>\n",
       "      <td>140000</td>\n",
       "    </tr>\n",
       "    <tr>\n",
       "      <th>4</th>\n",
       "      <td>2024</td>\n",
       "      <td>200000</td>\n",
       "    </tr>\n",
       "    <tr>\n",
       "      <th>5</th>\n",
       "      <td>2025</td>\n",
       "      <td>180000</td>\n",
       "    </tr>\n",
       "  </tbody>\n",
       "</table>\n",
       "</div>"
      ],
      "text/plain": [
       "   data   valor\n",
       "0  2020  100000\n",
       "1  2021  150000\n",
       "2  2022  170000\n",
       "3  2023  140000\n",
       "4  2024  200000\n",
       "5  2025  180000"
      ]
     },
     "execution_count": 92,
     "metadata": {},
     "output_type": "execute_result"
    }
   ],
   "source": [
    "df_faturamento = pd.DataFrame(dic_faturamento)\n",
    "df_faturamento"
   ]
  },
  {
   "cell_type": "code",
   "execution_count": 93,
   "id": "cef9fa16",
   "metadata": {},
   "outputs": [
    {
     "data": {
      "text/plain": [
       "data     object\n",
       "valor     int64\n",
       "dtype: object"
      ]
     },
     "execution_count": 93,
     "metadata": {},
     "output_type": "execute_result"
    }
   ],
   "source": [
    "df_faturamento.dtypes"
   ]
  },
  {
   "cell_type": "code",
   "execution_count": 94,
   "id": "b5e8331e",
   "metadata": {},
   "outputs": [],
   "source": [
    "#Trasnformar os dados de data em datetime\n",
    "\n",
    "df_faturamento[\"data\"] = pd.to_datetime(df_faturamento[\"data\"])"
   ]
  },
  {
   "cell_type": "code",
   "execution_count": 95,
   "id": "85f6860f",
   "metadata": {},
   "outputs": [
    {
     "data": {
      "text/plain": [
       "data     datetime64[ns]\n",
       "valor             int64\n",
       "dtype: object"
      ]
     },
     "execution_count": 95,
     "metadata": {},
     "output_type": "execute_result"
    }
   ],
   "source": [
    "df_faturamento.dtypes"
   ]
  },
  {
   "cell_type": "code",
   "execution_count": 96,
   "id": "7ab606c5",
   "metadata": {},
   "outputs": [
    {
     "data": {
      "text/plain": [
       "<Axes: xlabel='data'>"
      ]
     },
     "execution_count": 96,
     "metadata": {},
     "output_type": "execute_result"
    },
    {
     "data": {
      "image/png": "[encoded data removed]",
      "text/plain": [
       "<Figure size 640x480 with 1 Axes>"
      ]
     },
     "metadata": {},
     "output_type": "display_data"
    }
   ],
   "source": [
    "#Gráfico de linha (temporal)\n",
    "\n",
    "df_faturamento.plot.line(x=\"data\", y=\"valor\")"
   ]
  }
 ],
 "metadata": {
  "kernelspec": {
   "display_name": "base",
   "language": "python",
   "name": "python3"
  },
  "language_info": {
   "codemirror_mode": {
    "name": "ipython",
    "version": 3
   },
   "file_extension": ".py",
   "mimetype": "text/x-python",
   "name": "python",
   "nbconvert_exporter": "python",
   "pygments_lexer": "ipython3",
   "version": "3.12.7"
  }
 },
 "nbformat": 4,
 "nbformat_minor": 5
}
