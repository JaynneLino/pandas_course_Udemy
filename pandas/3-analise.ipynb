{
 "cells": [
  {
   "cell_type": "code",
   "execution_count": 3,
   "id": "1bca6eaf",
   "metadata": {},
   "outputs": [],
   "source": [
    "import pandas as pd"
   ]
  },
  {
   "cell_type": "code",
   "execution_count": 4,
   "id": "031805f7",
   "metadata": {},
   "outputs": [],
   "source": [
    "dados_venda = {\n",
    "    \"produto\": [\"calça\", \"saia\", \"blusa\", \"vestido\", \"calça\", \"blusa\", \"saia\", \"vestido\"],\n",
    "    \"preco\": [120, 80, 60, 150, 110, 70, 85, 140],\n",
    "    \"quantidade\": [2, 3, 5, 1, 4, 2, 6, 3],\n",
    "    \"mes\": [\"janeiro\", \"janeiro\", \"fevereiro\", \"fevereiro\", \"março\", \"março\", \"abril\", \"abril\"]\n",
    "}\n"
   ]
  },
  {
   "cell_type": "code",
   "execution_count": 5,
   "id": "1dc8b9b9",
   "metadata": {},
   "outputs": [
    {
     "data": {
      "text/html": [
       "<div>\n",
       "<style scoped>\n",
       "    .dataframe tbody tr th:only-of-type {\n",
       "        vertical-align: middle;\n",
       "    }\n",
       "\n",
       "    .dataframe tbody tr th {\n",
       "        vertical-align: top;\n",
       "    }\n",
       "\n",
       "    .dataframe thead th {\n",
       "        text-align: right;\n",
       "    }\n",
       "</style>\n",
       "<table border=\"1\" class=\"dataframe\">\n",
       "  <thead>\n",
       "    <tr style=\"text-align: right;\">\n",
       "      <th></th>\n",
       "      <th>produto</th>\n",
       "      <th>preco</th>\n",
       "      <th>quantidade</th>\n",
       "      <th>mes</th>\n",
       "    </tr>\n",
       "  </thead>\n",
       "  <tbody>\n",
       "    <tr>\n",
       "      <th>0</th>\n",
       "      <td>calça</td>\n",
       "      <td>120</td>\n",
       "      <td>2</td>\n",
       "      <td>janeiro</td>\n",
       "    </tr>\n",
       "    <tr>\n",
       "      <th>1</th>\n",
       "      <td>saia</td>\n",
       "      <td>80</td>\n",
       "      <td>3</td>\n",
       "      <td>janeiro</td>\n",
       "    </tr>\n",
       "    <tr>\n",
       "      <th>2</th>\n",
       "      <td>blusa</td>\n",
       "      <td>60</td>\n",
       "      <td>5</td>\n",
       "      <td>fevereiro</td>\n",
       "    </tr>\n",
       "    <tr>\n",
       "      <th>3</th>\n",
       "      <td>vestido</td>\n",
       "      <td>150</td>\n",
       "      <td>1</td>\n",
       "      <td>fevereiro</td>\n",
       "    </tr>\n",
       "    <tr>\n",
       "      <th>4</th>\n",
       "      <td>calça</td>\n",
       "      <td>110</td>\n",
       "      <td>4</td>\n",
       "      <td>março</td>\n",
       "    </tr>\n",
       "    <tr>\n",
       "      <th>5</th>\n",
       "      <td>blusa</td>\n",
       "      <td>70</td>\n",
       "      <td>2</td>\n",
       "      <td>março</td>\n",
       "    </tr>\n",
       "    <tr>\n",
       "      <th>6</th>\n",
       "      <td>saia</td>\n",
       "      <td>85</td>\n",
       "      <td>6</td>\n",
       "      <td>abril</td>\n",
       "    </tr>\n",
       "    <tr>\n",
       "      <th>7</th>\n",
       "      <td>vestido</td>\n",
       "      <td>140</td>\n",
       "      <td>3</td>\n",
       "      <td>abril</td>\n",
       "    </tr>\n",
       "  </tbody>\n",
       "</table>\n",
       "</div>"
      ],
      "text/plain": [
       "   produto  preco  quantidade        mes\n",
       "0    calça    120           2    janeiro\n",
       "1     saia     80           3    janeiro\n",
       "2    blusa     60           5  fevereiro\n",
       "3  vestido    150           1  fevereiro\n",
       "4    calça    110           4      março\n",
       "5    blusa     70           2      março\n",
       "6     saia     85           6      abril\n",
       "7  vestido    140           3      abril"
      ]
     },
     "execution_count": 5,
     "metadata": {},
     "output_type": "execute_result"
    }
   ],
   "source": [
    "#Criando o DataFrame\n",
    "df_vendas = pd.DataFrame(dados_venda)\n",
    "df_vendas"
   ]
  },
  {
   "cell_type": "code",
   "execution_count": 6,
   "id": "739cea8b",
   "metadata": {},
   "outputs": [
    {
     "data": {
      "text/html": [
       "<div>\n",
       "<style scoped>\n",
       "    .dataframe tbody tr th:only-of-type {\n",
       "        vertical-align: middle;\n",
       "    }\n",
       "\n",
       "    .dataframe tbody tr th {\n",
       "        vertical-align: top;\n",
       "    }\n",
       "\n",
       "    .dataframe thead th {\n",
       "        text-align: right;\n",
       "    }\n",
       "</style>\n",
       "<table border=\"1\" class=\"dataframe\">\n",
       "  <thead>\n",
       "    <tr style=\"text-align: right;\">\n",
       "      <th></th>\n",
       "      <th>produto</th>\n",
       "      <th>preco</th>\n",
       "      <th>quantidade</th>\n",
       "      <th>mes</th>\n",
       "      <th>receita</th>\n",
       "    </tr>\n",
       "  </thead>\n",
       "  <tbody>\n",
       "    <tr>\n",
       "      <th>0</th>\n",
       "      <td>calça</td>\n",
       "      <td>120</td>\n",
       "      <td>2</td>\n",
       "      <td>janeiro</td>\n",
       "      <td>240</td>\n",
       "    </tr>\n",
       "    <tr>\n",
       "      <th>1</th>\n",
       "      <td>saia</td>\n",
       "      <td>80</td>\n",
       "      <td>3</td>\n",
       "      <td>janeiro</td>\n",
       "      <td>240</td>\n",
       "    </tr>\n",
       "    <tr>\n",
       "      <th>2</th>\n",
       "      <td>blusa</td>\n",
       "      <td>60</td>\n",
       "      <td>5</td>\n",
       "      <td>fevereiro</td>\n",
       "      <td>300</td>\n",
       "    </tr>\n",
       "    <tr>\n",
       "      <th>3</th>\n",
       "      <td>vestido</td>\n",
       "      <td>150</td>\n",
       "      <td>1</td>\n",
       "      <td>fevereiro</td>\n",
       "      <td>150</td>\n",
       "    </tr>\n",
       "    <tr>\n",
       "      <th>4</th>\n",
       "      <td>calça</td>\n",
       "      <td>110</td>\n",
       "      <td>4</td>\n",
       "      <td>março</td>\n",
       "      <td>440</td>\n",
       "    </tr>\n",
       "    <tr>\n",
       "      <th>5</th>\n",
       "      <td>blusa</td>\n",
       "      <td>70</td>\n",
       "      <td>2</td>\n",
       "      <td>março</td>\n",
       "      <td>140</td>\n",
       "    </tr>\n",
       "    <tr>\n",
       "      <th>6</th>\n",
       "      <td>saia</td>\n",
       "      <td>85</td>\n",
       "      <td>6</td>\n",
       "      <td>abril</td>\n",
       "      <td>510</td>\n",
       "    </tr>\n",
       "    <tr>\n",
       "      <th>7</th>\n",
       "      <td>vestido</td>\n",
       "      <td>140</td>\n",
       "      <td>3</td>\n",
       "      <td>abril</td>\n",
       "      <td>420</td>\n",
       "    </tr>\n",
       "  </tbody>\n",
       "</table>\n",
       "</div>"
      ],
      "text/plain": [
       "   produto  preco  quantidade        mes  receita\n",
       "0    calça    120           2    janeiro      240\n",
       "1     saia     80           3    janeiro      240\n",
       "2    blusa     60           5  fevereiro      300\n",
       "3  vestido    150           1  fevereiro      150\n",
       "4    calça    110           4      março      440\n",
       "5    blusa     70           2      março      140\n",
       "6     saia     85           6      abril      510\n",
       "7  vestido    140           3      abril      420"
      ]
     },
     "execution_count": 6,
     "metadata": {},
     "output_type": "execute_result"
    }
   ],
   "source": [
    "#Gerar a receita em uma nova coluna\n",
    "\n",
    "df_vendas['receita'] = df_vendas['preco']*df_vendas['quantidade']\n",
    "df_vendas"
   ]
  },
  {
   "cell_type": "code",
   "execution_count": 7,
   "id": "4f37084c",
   "metadata": {},
   "outputs": [
    {
     "data": {
      "text/plain": [
       "produto\n",
       "blusa      440\n",
       "calça      680\n",
       "saia       750\n",
       "vestido    570\n",
       "Name: receita, dtype: int64"
      ]
     },
     "execution_count": 7,
     "metadata": {},
     "output_type": "execute_result"
    }
   ],
   "source": [
    "#Agrupar a receita total por produto\n",
    "#Usa o GroupBy\n",
    "\n",
    "resumo_vendas = df_vendas.groupby('produto')['receita'].sum()\n",
    "resumo_vendas"
   ]
  },
  {
   "cell_type": "code",
   "execution_count": 8,
   "id": "31803d6b",
   "metadata": {},
   "outputs": [
    {
     "data": {
      "text/html": [
       "<div>\n",
       "<style scoped>\n",
       "    .dataframe tbody tr th:only-of-type {\n",
       "        vertical-align: middle;\n",
       "    }\n",
       "\n",
       "    .dataframe tbody tr th {\n",
       "        vertical-align: top;\n",
       "    }\n",
       "\n",
       "    .dataframe thead th {\n",
       "        text-align: right;\n",
       "    }\n",
       "</style>\n",
       "<table border=\"1\" class=\"dataframe\">\n",
       "  <thead>\n",
       "    <tr style=\"text-align: right;\">\n",
       "      <th></th>\n",
       "      <th>produto</th>\n",
       "      <th>receita</th>\n",
       "    </tr>\n",
       "  </thead>\n",
       "  <tbody>\n",
       "    <tr>\n",
       "      <th>0</th>\n",
       "      <td>blusa</td>\n",
       "      <td>440</td>\n",
       "    </tr>\n",
       "    <tr>\n",
       "      <th>1</th>\n",
       "      <td>calça</td>\n",
       "      <td>680</td>\n",
       "    </tr>\n",
       "    <tr>\n",
       "      <th>2</th>\n",
       "      <td>saia</td>\n",
       "      <td>750</td>\n",
       "    </tr>\n",
       "    <tr>\n",
       "      <th>3</th>\n",
       "      <td>vestido</td>\n",
       "      <td>570</td>\n",
       "    </tr>\n",
       "  </tbody>\n",
       "</table>\n",
       "</div>"
      ],
      "text/plain": [
       "   produto  receita\n",
       "0    blusa      440\n",
       "1    calça      680\n",
       "2     saia      750\n",
       "3  vestido      570"
      ]
     },
     "execution_count": 8,
     "metadata": {},
     "output_type": "execute_result"
    }
   ],
   "source": [
    "#Agrupar a receita total por produto\n",
    "#Usa o GroupBy\n",
    "#Para deixar em formato de tabela usa-se o .reset_index()\n",
    "\n",
    "resumo_vendas = df_vendas.groupby('produto')['receita'].sum().reset_index()\n",
    "resumo_vendas"
   ]
  },
  {
   "cell_type": "code",
   "execution_count": 9,
   "id": "70611636",
   "metadata": {},
   "outputs": [
    {
     "data": {
      "text/html": [
       "<div>\n",
       "<style scoped>\n",
       "    .dataframe tbody tr th:only-of-type {\n",
       "        vertical-align: middle;\n",
       "    }\n",
       "\n",
       "    .dataframe tbody tr th {\n",
       "        vertical-align: top;\n",
       "    }\n",
       "\n",
       "    .dataframe thead th {\n",
       "        text-align: right;\n",
       "    }\n",
       "</style>\n",
       "<table border=\"1\" class=\"dataframe\">\n",
       "  <thead>\n",
       "    <tr style=\"text-align: right;\">\n",
       "      <th></th>\n",
       "      <th>produto</th>\n",
       "      <th>receita</th>\n",
       "    </tr>\n",
       "  </thead>\n",
       "  <tbody>\n",
       "    <tr>\n",
       "      <th>1</th>\n",
       "      <td>calça</td>\n",
       "      <td>680</td>\n",
       "    </tr>\n",
       "    <tr>\n",
       "      <th>2</th>\n",
       "      <td>saia</td>\n",
       "      <td>750</td>\n",
       "    </tr>\n",
       "    <tr>\n",
       "      <th>3</th>\n",
       "      <td>vestido</td>\n",
       "      <td>570</td>\n",
       "    </tr>\n",
       "  </tbody>\n",
       "</table>\n",
       "</div>"
      ],
      "text/plain": [
       "   produto  receita\n",
       "1    calça      680\n",
       "2     saia      750\n",
       "3  vestido      570"
      ]
     },
     "execution_count": 9,
     "metadata": {},
     "output_type": "execute_result"
    }
   ],
   "source": [
    "#Filtrar produtos com receita total acima de 500\n",
    "\n",
    "acima_500 = resumo_vendas[resumo_vendas['receita'] > 500]\n",
    "acima_500"
   ]
  },
  {
   "cell_type": "code",
   "execution_count": 10,
   "id": "b2a6cc39",
   "metadata": {},
   "outputs": [],
   "source": [
    "#Criar um gráfico com matplotlib\n",
    "#   Instalei com o pip\n",
    "\n",
    "import matplotlib.pyplot as plt"
   ]
  },
  {
   "cell_type": "code",
   "execution_count": 12,
   "id": "91242b8e",
   "metadata": {},
   "outputs": [
    {
     "data": {
      "text/plain": [
       "([0, 1, 2, 3],\n",
       " [Text(0, 0, 'blusa'),\n",
       "  Text(1, 0, 'calça'),\n",
       "  Text(2, 0, 'saia'),\n",
       "  Text(3, 0, 'vestido')])"
      ]
     },
     "execution_count": 12,
     "metadata": {},
     "output_type": "execute_result"
    },
    {
     "data": {
      "image/png": "[encoded data removed]",
      "text/plain": [
       "<Figure size 800x500 with 1 Axes>"
      ]
     },
     "metadata": {},
     "output_type": "display_data"
    }
   ],
   "source": [
    "#Definir o tamanho da figura\n",
    "plt.figure(figsize = (8,5))\n",
    "\n",
    "#Vai ser um gráfico de barras com o produto e a receita\n",
    "plt.bar(resumo_vendas['produto'], resumo_vendas['receita'], width = 0.4, color = 'skyblue')\n",
    "\n",
    "#Adicionar título\n",
    "plt.title('Receita total por produto')\n",
    "\n",
    "#Título eixo x\n",
    "plt.xlabel('Produto')\n",
    "\n",
    "#Título eixo y\n",
    "plt.ylabel('Receita total (€)')\n",
    "\n",
    "#Rodar o nome das colunas\n",
    "plt.xticks(rotation = 45)\n"
   ]
  }
 ],
 "metadata": {
  "kernelspec": {
   "display_name": "base",
   "language": "python",
   "name": "python3"
  },
  "language_info": {
   "codemirror_mode": {
    "name": "ipython",
    "version": 3
   },
   "file_extension": ".py",
   "mimetype": "text/x-python",
   "name": "python",
   "nbconvert_exporter": "python",
   "pygments_lexer": "ipython3",
   "version": "3.12.7"
  }
 },
 "nbformat": 4,
 "nbformat_minor": 5
}
