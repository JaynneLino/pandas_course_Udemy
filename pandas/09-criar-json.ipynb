{
 "cells": [
  {
   "cell_type": "code",
   "execution_count": 1,
   "id": "179cafe4",
   "metadata": {},
   "outputs": [],
   "source": [
    "import json\n",
    "import pandas as pd"
   ]
  },
  {
   "cell_type": "code",
   "execution_count": 2,
   "id": "9f2f0526",
   "metadata": {},
   "outputs": [],
   "source": [
    "dados_receitas = {\n",
    "    \"receitas\": [\n",
    "        {\n",
    "            \"titulo\": \"Bolo de Chocolate\",\n",
    "            \"tempo_preparo\": \"45 minutos\",\n",
    "            \"porcoes\": 8,\n",
    "            \"ingredientes\": [\n",
    "                {\"ingrediente\": \"Farinha de Trigo\", \"quantidade\": \"2 xícaras\"},\n",
    "                {\"ingrediente\": \"Açúcar\", \"quantidade\": \"1 xícara\"},\n",
    "                {\"ingrediente\": \"Ovos\", \"quantidade\": \"3 unidades\"},\n",
    "                {\"ingrediente\": \"Leite\", \"quantidade\": \"1 xícara\"},\n",
    "                {\"ingrediente\": \"Manteiga\", \"quantidade\": \"1/2 xícara\"}\n",
    "            ]\n",
    "        },\n",
    "        {\n",
    "            \"titulo\": \"Salada Caesar\",\n",
    "            \"tempo_preparo\": \"20 minutos\",\n",
    "            \"porcoes\": 4,\n",
    "            \"ingredientes\": [\n",
    "                {\"ingrediente\": \"Alface Romana\", \"quantidade\": \"1 unidade\"},\n",
    "                {\"ingrediente\": \"Frango Grelhado\", \"quantidade\": \"200 g\"},\n",
    "                {\"ingrediente\": \"Croutons\", \"quantidade\": \"1 xícara\"},\n",
    "                {\"ingrediente\": \"Molho Caesar\", \"quantidade\": \"1/2 xícara\"},\n",
    "                {\"ingrediente\": \"Queijo Parmesão\", \"quantidade\": \"1/4 xícara\"}\n",
    "            ]\n",
    "        },\n",
    "        {\n",
    "            \"titulo\": \"Lasanha de Carne\",\n",
    "            \"tempo_preparo\": \"60 minutos\",\n",
    "            \"porcoes\": 6,\n",
    "            \"ingredientes\": [\n",
    "                {\"ingrediente\": \"Massa de Lasanha\", \"quantidade\": \"500 g\"},\n",
    "                {\"ingrediente\": \"Carne Moída\", \"quantidade\": \"400 g\"},\n",
    "                {\"ingrediente\": \"Molho de Tomate\", \"quantidade\": \"2 xícaras\"},\n",
    "                {\"ingrediente\": \"Queijo Mussarela\", \"quantidade\": \"300 g\"},\n",
    "                {\"ingrediente\": \"Presunto\", \"quantidade\": \"200 g\"}\n",
    "            ]\n",
    "        }\n",
    "    ]\n",
    "}\n"
   ]
  },
  {
   "cell_type": "code",
   "execution_count": 3,
   "id": "af00448d",
   "metadata": {},
   "outputs": [],
   "source": [
    "with open(\"dados/receitas.json\", 'w', encoding= 'utf-8') as f:\n",
    "    json.dump(dados_receitas, f, ensure_ascii= False, indent= 4)"
   ]
  }
 ],
 "metadata": {
  "kernelspec": {
   "display_name": "base",
   "language": "python",
   "name": "python3"
  },
  "language_info": {
   "codemirror_mode": {
    "name": "ipython",
    "version": 3
   },
   "file_extension": ".py",
   "mimetype": "text/x-python",
   "name": "python",
   "nbconvert_exporter": "python",
   "pygments_lexer": "ipython3",
   "version": "3.12.7"
  }
 },
 "nbformat": 4,
 "nbformat_minor": 5
}
