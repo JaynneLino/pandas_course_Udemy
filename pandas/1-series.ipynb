{
 "cells": [
  {
   "cell_type": "code",
   "execution_count": 1,
   "id": "bfa42418",
   "metadata": {},
   "outputs": [],
   "source": [
    "import pandas as pd"
   ]
  },
  {
   "cell_type": "code",
   "execution_count": null,
   "id": "fd001fda",
   "metadata": {},
   "outputs": [
    {
     "data": {
      "text/plain": [
       "0    10\n",
       "1    20\n",
       "2    30\n",
       "3    40\n",
       "4    50\n",
       "dtype: int64"
      ]
     },
     "execution_count": 4,
     "metadata": {},
     "output_type": "execute_result"
    }
   ],
   "source": [
    "#Estrutura series \n",
    "#\n",
    "\n",
    "dados = [10, 20, 30, 40, 50]\n",
    "serie = pd.Series(dados)\n",
    "serie"
   ]
  },
  {
   "cell_type": "code",
   "execution_count": 5,
   "id": "66434f53",
   "metadata": {},
   "outputs": [
    {
     "data": {
      "text/plain": [
       "pandas.core.series.Series"
      ]
     },
     "execution_count": 5,
     "metadata": {},
     "output_type": "execute_result"
    }
   ],
   "source": [
    "type(serie)"
   ]
  },
  {
   "cell_type": "code",
   "execution_count": 9,
   "id": "0ec7e122",
   "metadata": {},
   "outputs": [
    {
     "name": "stdout",
     "output_type": "stream",
     "text": [
      "a    10\n",
      "b    20\n",
      "c    30\n",
      "d    40\n",
      "dtype: int64\n",
      "20\n",
      "30\n"
     ]
    }
   ],
   "source": [
    "# Criando uma Series simples\n",
    "s = pd.Series([10, 20, 30, 40], index=['a', 'b', 'c', 'd'])\n",
    "print(s)\n",
    "print(s['b']) \n",
    "print(s.iloc[2])"
   ]
  },
  {
   "cell_type": "code",
   "execution_count": null,
   "id": "cc9f2c0e",
   "metadata": {},
   "outputs": [
    {
     "name": "stdout",
     "output_type": "stream",
     "text": [
      "Jan    2000\n",
      "Fev    2500\n",
      "Mar    3000\n",
      "Abr    2800\n",
      "Mai    3500\n",
      "Jun    4000\n",
      "Jul    5000\n",
      "Ago    5110\n",
      "Set    5800\n",
      "Out    7000\n",
      "Nov    5500\n",
      "Dez    2600\n",
      "dtype: int64\n"
     ]
    }
   ],
   "source": [
    "#Criando uma Series com dados de vendas mensais\n",
    "\n",
    "vendas_mensais = pd.Series ([2000, 2500, 3000, 2800, 3500, 4000, 5000, 5110, 5800, 7000, 5500, 2600],\n",
    "                            index = ['Jan', 'Fev', 'Mar', 'Abr', 'Mai', 'Jun', 'Jul', 'Ago', 'Set', 'Out', 'Nov', 'Dez'])\n",
    "\n",
    "print(vendas_mensais)"
   ]
  },
  {
   "cell_type": "code",
   "execution_count": 11,
   "id": "88e9283e",
   "metadata": {},
   "outputs": [
    {
     "data": {
      "text/plain": [
       "4067.5"
      ]
     },
     "execution_count": 11,
     "metadata": {},
     "output_type": "execute_result"
    }
   ],
   "source": [
    "# Calcular a média de vendas\n",
    "\n",
    "media_vendas = vendas_mensais.mean()\n",
    "media_vendas"
   ]
  },
  {
   "cell_type": "code",
   "execution_count": 12,
   "id": "31998af0",
   "metadata": {},
   "outputs": [
    {
     "data": {
      "text/plain": [
       "'Out'"
      ]
     },
     "execution_count": 12,
     "metadata": {},
     "output_type": "execute_result"
    }
   ],
   "source": [
    "# Mês com maior venda usando idxmax()\n",
    "\n",
    "mes_maior_venda = vendas_mensais.idxmax()\n",
    "mes_maior_venda"
   ]
  },
  {
   "cell_type": "code",
   "execution_count": null,
   "id": "212f9121",
   "metadata": {},
   "outputs": [
    {
     "data": {
      "text/plain": [
       "Jul    5000\n",
       "Ago    5110\n",
       "Set    5800\n",
       "Out    7000\n",
       "Nov    5500\n",
       "dtype: int64"
      ]
     },
     "execution_count": 13,
     "metadata": {},
     "output_type": "execute_result"
    }
   ],
   "source": [
    "# Aplicar um filtro para retornar as vendas acima da média\n",
    "\n",
    "acima_media = vendas_mensais[vendas_mensais > media_vendas] #Faz uma filtragem onde o valor da Series booleana é True\n",
    "acima_media"
   ]
  }
 ],
 "metadata": {
  "kernelspec": {
   "display_name": "base",
   "language": "python",
   "name": "python3"
  },
  "language_info": {
   "codemirror_mode": {
    "name": "ipython",
    "version": 3
   },
   "file_extension": ".py",
   "mimetype": "text/x-python",
   "name": "python",
   "nbconvert_exporter": "python",
   "pygments_lexer": "ipython3",
   "version": "3.12.7"
  }
 },
 "nbformat": 4,
 "nbformat_minor": 5
}
