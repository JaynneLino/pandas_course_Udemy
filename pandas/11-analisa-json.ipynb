{
 "cells": [
  {
   "cell_type": "code",
   "execution_count": 7,
   "id": "0626c14c",
   "metadata": {},
   "outputs": [],
   "source": [
    "import json\n",
    "import pandas as pd"
   ]
  },
  {
   "cell_type": "code",
   "execution_count": 8,
   "id": "8383259c",
   "metadata": {},
   "outputs": [
    {
     "data": {
      "text/html": [
       "<div>\n",
       "<style scoped>\n",
       "    .dataframe tbody tr th:only-of-type {\n",
       "        vertical-align: middle;\n",
       "    }\n",
       "\n",
       "    .dataframe tbody tr th {\n",
       "        vertical-align: top;\n",
       "    }\n",
       "\n",
       "    .dataframe thead th {\n",
       "        text-align: right;\n",
       "    }\n",
       "</style>\n",
       "<table border=\"1\" class=\"dataframe\">\n",
       "  <thead>\n",
       "    <tr style=\"text-align: right;\">\n",
       "      <th></th>\n",
       "      <th>receitas</th>\n",
       "    </tr>\n",
       "  </thead>\n",
       "  <tbody>\n",
       "    <tr>\n",
       "      <th>0</th>\n",
       "      <td>{'titulo': 'Bolo de Chocolate', 'tempo_preparo...</td>\n",
       "    </tr>\n",
       "    <tr>\n",
       "      <th>1</th>\n",
       "      <td>{'titulo': 'Salada Caesar', 'tempo_preparo': '...</td>\n",
       "    </tr>\n",
       "    <tr>\n",
       "      <th>2</th>\n",
       "      <td>{'titulo': 'Lasanha de Carne', 'tempo_preparo'...</td>\n",
       "    </tr>\n",
       "  </tbody>\n",
       "</table>\n",
       "</div>"
      ],
      "text/plain": [
       "                                            receitas\n",
       "0  {'titulo': 'Bolo de Chocolate', 'tempo_preparo...\n",
       "1  {'titulo': 'Salada Caesar', 'tempo_preparo': '...\n",
       "2  {'titulo': 'Lasanha de Carne', 'tempo_preparo'..."
      ]
     },
     "execution_count": 8,
     "metadata": {},
     "output_type": "execute_result"
    }
   ],
   "source": [
    "df = pd.read_json(\"dados/receitas.json\", encoding='utf-8')\n",
    "df"
   ]
  },
  {
   "cell_type": "code",
   "execution_count": 14,
   "id": "815c26b4",
   "metadata": {},
   "outputs": [],
   "source": [
    "#Análise total de igredientes por receita\n",
    "\n",
    "receitas_expandidas = []\n",
    "\n",
    "for receita in df['receitas']:\n",
    "    total_igredientes = len(receita['ingredientes'])\n",
    "    receita_info = {\n",
    "        'titulo' : receita['titulo'],\n",
    "        'tempo_preparo' : receita['tempo_preparo'],\n",
    "        'porcoes' : receita['porcoes'],\n",
    "        'total_igredientes' : total_igredientes\n",
    "    }\n",
    "\n",
    "    receitas_expandidas.append(receita_info)"
   ]
  },
  {
   "cell_type": "code",
   "execution_count": 16,
   "id": "a046b7a8",
   "metadata": {},
   "outputs": [
    {
     "data": {
      "text/plain": [
       "[{'titulo': 'Bolo de Chocolate',\n",
       "  'tempo_preparo': '45 minutos',\n",
       "  'porcoes': 8,\n",
       "  'total_igredientes': 5},\n",
       " {'titulo': 'Salada Caesar',\n",
       "  'tempo_preparo': '20 minutos',\n",
       "  'porcoes': 4,\n",
       "  'total_igredientes': 5},\n",
       " {'titulo': 'Lasanha de Carne',\n",
       "  'tempo_preparo': '60 minutos',\n",
       "  'porcoes': 6,\n",
       "  'total_igredientes': 5}]"
      ]
     },
     "execution_count": 16,
     "metadata": {},
     "output_type": "execute_result"
    }
   ],
   "source": [
    "receitas_expandidas"
   ]
  },
  {
   "cell_type": "code",
   "execution_count": 17,
   "id": "76ba7f3c",
   "metadata": {},
   "outputs": [
    {
     "data": {
      "text/html": [
       "<div>\n",
       "<style scoped>\n",
       "    .dataframe tbody tr th:only-of-type {\n",
       "        vertical-align: middle;\n",
       "    }\n",
       "\n",
       "    .dataframe tbody tr th {\n",
       "        vertical-align: top;\n",
       "    }\n",
       "\n",
       "    .dataframe thead th {\n",
       "        text-align: right;\n",
       "    }\n",
       "</style>\n",
       "<table border=\"1\" class=\"dataframe\">\n",
       "  <thead>\n",
       "    <tr style=\"text-align: right;\">\n",
       "      <th></th>\n",
       "      <th>titulo</th>\n",
       "      <th>tempo_preparo</th>\n",
       "      <th>porcoes</th>\n",
       "      <th>total_igredientes</th>\n",
       "    </tr>\n",
       "  </thead>\n",
       "  <tbody>\n",
       "    <tr>\n",
       "      <th>0</th>\n",
       "      <td>Bolo de Chocolate</td>\n",
       "      <td>45 minutos</td>\n",
       "      <td>8</td>\n",
       "      <td>5</td>\n",
       "    </tr>\n",
       "    <tr>\n",
       "      <th>1</th>\n",
       "      <td>Salada Caesar</td>\n",
       "      <td>20 minutos</td>\n",
       "      <td>4</td>\n",
       "      <td>5</td>\n",
       "    </tr>\n",
       "    <tr>\n",
       "      <th>2</th>\n",
       "      <td>Lasanha de Carne</td>\n",
       "      <td>60 minutos</td>\n",
       "      <td>6</td>\n",
       "      <td>5</td>\n",
       "    </tr>\n",
       "  </tbody>\n",
       "</table>\n",
       "</div>"
      ],
      "text/plain": [
       "              titulo tempo_preparo  porcoes  total_igredientes\n",
       "0  Bolo de Chocolate    45 minutos        8                  5\n",
       "1      Salada Caesar    20 minutos        4                  5\n",
       "2   Lasanha de Carne    60 minutos        6                  5"
      ]
     },
     "execution_count": 17,
     "metadata": {},
     "output_type": "execute_result"
    }
   ],
   "source": [
    "df_expandido = pd.DataFrame(receitas_expandidas)\n",
    "df_expandido"
   ]
  }
 ],
 "metadata": {
  "kernelspec": {
   "display_name": "base",
   "language": "python",
   "name": "python3"
  },
  "language_info": {
   "codemirror_mode": {
    "name": "ipython",
    "version": 3
   },
   "file_extension": ".py",
   "mimetype": "text/x-python",
   "name": "python",
   "nbconvert_exporter": "python",
   "pygments_lexer": "ipython3",
   "version": "3.12.7"
  }
 },
 "nbformat": 4,
 "nbformat_minor": 5
}
