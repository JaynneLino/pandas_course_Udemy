{
 "cells": [
  {
   "cell_type": "code",
   "execution_count": 1,
   "id": "3737322a",
   "metadata": {},
   "outputs": [],
   "source": [
    "import numpy as np"
   ]
  },
  {
   "cell_type": "code",
   "execution_count": 2,
   "id": "eddae56d",
   "metadata": {},
   "outputs": [
    {
     "data": {
      "text/plain": [
       "array([1, 2, 3, 4, 5])"
      ]
     },
     "execution_count": 2,
     "metadata": {},
     "output_type": "execute_result"
    }
   ],
   "source": [
    "array = np.array([1, 2, 3, 4, 5])\n",
    "array"
   ]
  },
  {
   "cell_type": "code",
   "execution_count": 3,
   "id": "c4079896",
   "metadata": {},
   "outputs": [
    {
     "data": {
      "text/plain": [
       "array([11, 12, 13, 14, 15])"
      ]
     },
     "execution_count": 3,
     "metadata": {},
     "output_type": "execute_result"
    }
   ],
   "source": [
    "#Funcao adicao\n",
    "\n",
    "soma = np.add(array, 10)\n",
    "soma"
   ]
  },
  {
   "cell_type": "code",
   "execution_count": 4,
   "id": "6474135b",
   "metadata": {},
   "outputs": [
    {
     "data": {
      "text/plain": [
       "array([-4, -3, -2, -1,  0])"
      ]
     },
     "execution_count": 4,
     "metadata": {},
     "output_type": "execute_result"
    }
   ],
   "source": [
    "#Subtracao\n",
    "\n",
    "subtracao = np.subtract(array, 5)\n",
    "subtracao"
   ]
  },
  {
   "cell_type": "code",
   "execution_count": 5,
   "id": "cfa9c4d5",
   "metadata": {},
   "outputs": [
    {
     "data": {
      "text/plain": [
       "array([ 2,  4,  6,  8, 10])"
      ]
     },
     "execution_count": 5,
     "metadata": {},
     "output_type": "execute_result"
    }
   ],
   "source": [
    "#Multiplicacao\n",
    "\n",
    "produto = np.multiply(array, 2)\n",
    "produto"
   ]
  },
  {
   "cell_type": "code",
   "execution_count": 6,
   "id": "6e345c1f",
   "metadata": {},
   "outputs": [
    {
     "data": {
      "text/plain": [
       "array([0.5, 1. , 1.5, 2. , 2.5])"
      ]
     },
     "execution_count": 6,
     "metadata": {},
     "output_type": "execute_result"
    }
   ],
   "source": [
    "#Divisao\n",
    "\n",
    "divisao = np.divide(array, 2)\n",
    "divisao"
   ]
  },
  {
   "cell_type": "code",
   "execution_count": null,
   "id": "7d528f8d",
   "metadata": {},
   "outputs": [
    {
     "data": {
      "text/plain": [
       "array([ 0.84147098,  0.90929743,  0.14112001, -0.7568025 , -0.95892427])"
      ]
     },
     "execution_count": 7,
     "metadata": {},
     "output_type": "execute_result"
    }
   ],
   "source": [
    "#Funcoes trigonométricas\n",
    "\n",
    "seno = np.sin(array)\n",
    "seno"
   ]
  },
  {
   "cell_type": "code",
   "execution_count": 8,
   "id": "630e3692",
   "metadata": {},
   "outputs": [
    {
     "data": {
      "text/plain": [
       "array([ 0.54030231, -0.41614684, -0.9899925 , -0.65364362,  0.28366219])"
      ]
     },
     "execution_count": 8,
     "metadata": {},
     "output_type": "execute_result"
    }
   ],
   "source": [
    "cosseno = np.cos(array)\n",
    "cosseno"
   ]
  },
  {
   "cell_type": "code",
   "execution_count": 9,
   "id": "f3051444",
   "metadata": {},
   "outputs": [
    {
     "data": {
      "text/plain": [
       "3.0"
      ]
     },
     "execution_count": 9,
     "metadata": {},
     "output_type": "execute_result"
    }
   ],
   "source": [
    "#Funcoes estatisticas\n",
    "\n",
    "media = np.mean(array)\n",
    "media"
   ]
  },
  {
   "cell_type": "code",
   "execution_count": 10,
   "id": "d2f556b9",
   "metadata": {},
   "outputs": [
    {
     "data": {
      "text/plain": [
       "1.4142135623730951"
      ]
     },
     "execution_count": 10,
     "metadata": {},
     "output_type": "execute_result"
    }
   ],
   "source": [
    "#Desvio padrao\n",
    "\n",
    "d_p = np.std(array)\n",
    "d_p"
   ]
  },
  {
   "cell_type": "code",
   "execution_count": 12,
   "id": "257dcf76",
   "metadata": {},
   "outputs": [
    {
     "data": {
      "text/plain": [
       "array([False, False, False,  True,  True])"
      ]
     },
     "execution_count": 12,
     "metadata": {},
     "output_type": "execute_result"
    }
   ],
   "source": [
    "#Funcoes de comparacao\n",
    "#Retorna valores booleanos\n",
    "\n",
    "array_3 = array>3\n",
    "array_3"
   ]
  },
  {
   "cell_type": "code",
   "execution_count": 14,
   "id": "5e9fdca5",
   "metadata": {},
   "outputs": [
    {
     "data": {
      "text/plain": [
       "array([ 2.        ,  5.41421356, 10.73205081, 18.        , 27.23606798])"
      ]
     },
     "execution_count": 14,
     "metadata": {},
     "output_type": "execute_result"
    }
   ],
   "source": [
    "#Combinar funcoes\n",
    "#Primeira funcao: calcula a raiz quadrada de cada elemento do array\n",
    "#Segunda funcao: eleva cada elemento ao quadrado - é equivalente a (array ** 2)\n",
    "\n",
    "resultado = np.sqrt(array) + np.power(array, 2)\n",
    "resultado"
   ]
  },
  {
   "cell_type": "code",
   "execution_count": 16,
   "id": "2d2798bf",
   "metadata": {},
   "outputs": [
    {
     "data": {
      "text/plain": [
       "array([  2.71828183,   7.3890561 ,  20.08553692,  54.59815003,\n",
       "       148.4131591 ])"
      ]
     },
     "execution_count": 16,
     "metadata": {},
     "output_type": "execute_result"
    }
   ],
   "source": [
    "#Funcoes exponenciais\n",
    "# calcula 𝑒𝑥 para cada elemento de x, onde 𝑒 é o número de Euler ≈ 2.71828\n",
    "\n",
    "exponencial = np.exp(array)\n",
    "exponencial"
   ]
  },
  {
   "cell_type": "code",
   "execution_count": 17,
   "id": "590267e6",
   "metadata": {},
   "outputs": [
    {
     "data": {
      "text/plain": [
       "array([0.        , 0.69314718, 1.09861229, 1.38629436, 1.60943791])"
      ]
     },
     "execution_count": 17,
     "metadata": {},
     "output_type": "execute_result"
    }
   ],
   "source": [
    "#Funcao de logaritmo \n",
    "\n",
    "logaritimo = np.log(array)\n",
    "logaritimo"
   ]
  },
  {
   "cell_type": "code",
   "execution_count": 18,
   "id": "23ee6deb",
   "metadata": {},
   "outputs": [
    {
     "data": {
      "text/plain": [
       "array([0., 1., 2., 2., 2.])"
      ]
     },
     "execution_count": 18,
     "metadata": {},
     "output_type": "execute_result"
    }
   ],
   "source": [
    "#Funcao de arredondamento\n",
    "\n",
    "arredondado = np.round(array / 2)\n",
    "arredondado"
   ]
  },
  {
   "cell_type": "code",
   "execution_count": 19,
   "id": "87ac2a5c",
   "metadata": {},
   "outputs": [
    {
     "data": {
      "text/plain": [
       "array([  1,   8,  27,  64, 125], dtype=int32)"
      ]
     },
     "execution_count": 19,
     "metadata": {},
     "output_type": "execute_result"
    }
   ],
   "source": [
    "#Funcao de potencia\n",
    "\n",
    "potencia = np.power(array, 3)\n",
    "potencia"
   ]
  }
 ],
 "metadata": {
  "kernelspec": {
   "display_name": "base",
   "language": "python",
   "name": "python3"
  },
  "language_info": {
   "codemirror_mode": {
    "name": "ipython",
    "version": 3
   },
   "file_extension": ".py",
   "mimetype": "text/x-python",
   "name": "python",
   "nbconvert_exporter": "python",
   "pygments_lexer": "ipython3",
   "version": "3.12.7"
  }
 },
 "nbformat": 4,
 "nbformat_minor": 5
}
