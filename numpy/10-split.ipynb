{
 "cells": [
  {
   "cell_type": "code",
   "execution_count": 1,
   "id": "398048fe",
   "metadata": {},
   "outputs": [],
   "source": [
    "import numpy as np"
   ]
  },
  {
   "cell_type": "code",
   "execution_count": null,
   "id": "b89ab658",
   "metadata": {},
   "outputs": [
    {
     "data": {
      "text/plain": [
       "array([1, 2, 3, 4, 5, 6])"
      ]
     },
     "execution_count": 2,
     "metadata": {},
     "output_type": "execute_result"
    }
   ],
   "source": [
    "\n",
    "\n",
    "array = np.array([1, 2, 3, 4, 5, 6])\n",
    "array"
   ]
  },
  {
   "cell_type": "code",
   "execution_count": 3,
   "id": "27833928",
   "metadata": {},
   "outputs": [
    {
     "data": {
      "text/plain": [
       "[array([1, 2]), array([3, 4]), array([5, 6])]"
      ]
     },
     "execution_count": 3,
     "metadata": {},
     "output_type": "execute_result"
    }
   ],
   "source": [
    "#Dividir arrays\n",
    "\n",
    "array_dividido = np.split(array, 3)\n",
    "array_dividido"
   ]
  },
  {
   "cell_type": "code",
   "execution_count": 4,
   "id": "13e1d6c3",
   "metadata": {},
   "outputs": [
    {
     "name": "stdout",
     "output_type": "stream",
     "text": [
      "Parte 1 --> [1 2]\n",
      "Parte 2 --> [3 4]\n",
      "Parte 3 --> [5 6]\n"
     ]
    }
   ],
   "source": [
    "for i, value in enumerate(array_dividido):\n",
    "    print(f'Parte {i+1} --> {value}')"
   ]
  },
  {
   "cell_type": "code",
   "execution_count": 24,
   "id": "b8d460a6",
   "metadata": {},
   "outputs": [
    {
     "data": {
      "text/plain": [
       "array([23, 27, 30, 19, 25, 33, 21, 22, 28, 35, 18, 29, 20, 32, 24, 26, 27,\n",
       "       19, 30, 34, 22, 23, 31, 25, 28, 16, 29, 21])"
      ]
     },
     "execution_count": 24,
     "metadata": {},
     "output_type": "execute_result"
    }
   ],
   "source": [
    "#Criar um array 1D com temperaturas diárias de um mês (28 dias)\n",
    "\n",
    "temperaturas = np.array([\n",
    "    23, 27, 30, 19, 25, 33, 21, 22, 28, 35,\n",
    "    18, 29, 20, 32, 24, 26, 27, 19, 30, 34,\n",
    "    22, 23, 31, 25, 28, 16, 29, 21\n",
    "])\n",
    "\n",
    "temperaturas\n"
   ]
  },
  {
   "cell_type": "code",
   "execution_count": 25,
   "id": "e539b2f8",
   "metadata": {},
   "outputs": [
    {
     "data": {
      "text/plain": [
       "[array([23, 27, 30, 19, 25, 33, 21]),\n",
       " array([22, 28, 35, 18, 29, 20, 32]),\n",
       " array([24, 26, 27, 19, 30, 34, 22]),\n",
       " array([23, 31, 25, 28, 16, 29, 21])]"
      ]
     },
     "execution_count": 25,
     "metadata": {},
     "output_type": "execute_result"
    }
   ],
   "source": [
    "#Divindido as temperaturas em 4 semanas\n",
    "#Esta função só divide se o resultado for número inteiro. Exemplo: 28 dias / 4 = 7. Ou seja, 4 arrays com 7 temperaturas. \n",
    "#Se tentar dividir 30 / 4 = 7,5. Isto causará um erro na função\n",
    "#O np.split só funciona quando o array pode ser dividido em partes iguais.\n",
    "\n",
    "\n",
    "semanas = np.split(temperaturas, 4)\n",
    "semanas\n"
   ]
  },
  {
   "cell_type": "code",
   "execution_count": 26,
   "id": "eb0c629a",
   "metadata": {},
   "outputs": [
    {
     "name": "stdout",
     "output_type": "stream",
     "text": [
      "Semana 1: [23 27 30 19 25 33 21]\n",
      "Semana 2: [22 28 35 18 29 20 32]\n",
      "Semana 3: [24 26 27 19 30 34 22]\n",
      "Semana 4: [23 31 25 28 16 29 21]\n"
     ]
    }
   ],
   "source": [
    "for i, value in enumerate(semanas):\n",
    "    print(f'Semana {i+1}: {value}')"
   ]
  },
  {
   "cell_type": "code",
   "execution_count": 29,
   "id": "0f1dc74e",
   "metadata": {},
   "outputs": [
    {
     "data": {
      "text/plain": [
       "[25.428571428571427, 26.285714285714285, 26.0, 24.714285714285715]"
      ]
     },
     "execution_count": 29,
     "metadata": {},
     "output_type": "execute_result"
    }
   ],
   "source": [
    "#Média de temperatura por semana\n",
    "\n",
    "media_semana = [np.mean(semana) for semana in semanas]\n",
    "media_semana\n"
   ]
  },
  {
   "cell_type": "code",
   "execution_count": 30,
   "id": "a42bdf17",
   "metadata": {},
   "outputs": [
    {
     "name": "stdout",
     "output_type": "stream",
     "text": [
      "Média da semana 1: 25.43°C.\n",
      "Média da semana 2: 26.29°C.\n",
      "Média da semana 3: 26.00°C.\n",
      "Média da semana 4: 24.71°C.\n"
     ]
    }
   ],
   "source": [
    "for i, value in enumerate(media_semana):\n",
    "    print(f'Média da semana {i+1}: {value:.2f}°C.')"
   ]
  }
 ],
 "metadata": {
  "kernelspec": {
   "display_name": "base",
   "language": "python",
   "name": "python3"
  },
  "language_info": {
   "codemirror_mode": {
    "name": "ipython",
    "version": 3
   },
   "file_extension": ".py",
   "mimetype": "text/x-python",
   "name": "python",
   "nbconvert_exporter": "python",
   "pygments_lexer": "ipython3",
   "version": "3.12.7"
  }
 },
 "nbformat": 4,
 "nbformat_minor": 5
}
