{
 "cells": [
  {
   "cell_type": "code",
   "execution_count": 1,
   "id": "4670cf8a",
   "metadata": {},
   "outputs": [],
   "source": [
    "import numpy as np"
   ]
  },
  {
   "cell_type": "code",
   "execution_count": 8,
   "id": "6a0e8816",
   "metadata": {},
   "outputs": [
    {
     "data": {
      "text/plain": [
       "array([10, 20, 30, 40, 50])"
      ]
     },
     "execution_count": 8,
     "metadata": {},
     "output_type": "execute_result"
    }
   ],
   "source": [
    "array = np.array([10, 20, 30, 40, 50])\n",
    "array"
   ]
  },
  {
   "cell_type": "code",
   "execution_count": 9,
   "id": "4cd0866d",
   "metadata": {},
   "outputs": [
    {
     "data": {
      "text/plain": [
       "(array([2], dtype=int64),)"
      ]
     },
     "execution_count": 9,
     "metadata": {},
     "output_type": "execute_result"
    }
   ],
   "source": [
    "#Pesquisar a posição do valor 30\n",
    "\n",
    "posicao = np.where(array==30)\n",
    "posicao"
   ]
  },
  {
   "cell_type": "code",
   "execution_count": 20,
   "id": "c2c3dc65",
   "metadata": {},
   "outputs": [
    {
     "data": {
      "text/plain": [
       "array([19. , 11.5, 20. , 19. , 17. , 16. , 13. , 19. , 15. , 11. , 20. ])"
      ]
     },
     "execution_count": 20,
     "metadata": {},
     "output_type": "execute_result"
    }
   ],
   "source": [
    "#Criar um array com nota de alunos\n",
    "\n",
    "notas = np.array([19, 11.5, 20, 19, 17, 16, 13, 19, 15, 11, 20])\n",
    "notas"
   ]
  },
  {
   "cell_type": "code",
   "execution_count": 21,
   "id": "181e9131",
   "metadata": {},
   "outputs": [
    {
     "data": {
      "text/plain": [
       "(array([ 0,  2,  3,  4,  5,  6,  7,  8, 10], dtype=int64),)"
      ]
     },
     "execution_count": 21,
     "metadata": {},
     "output_type": "execute_result"
    }
   ],
   "source": [
    "#Pesquisar alunos aprovados (nota > 12)\n",
    "\n",
    "aprovados = np.where(notas > 12)\n",
    "aprovados"
   ]
  },
  {
   "cell_type": "code",
   "execution_count": 22,
   "id": "9d7cf7c3",
   "metadata": {},
   "outputs": [
    {
     "data": {
      "text/plain": [
       "array([19., 20., 19., 17., 16., 13., 19., 15., 20.])"
      ]
     },
     "execution_count": 22,
     "metadata": {},
     "output_type": "execute_result"
    }
   ],
   "source": [
    "#Para ter a informação das notas e não os índices\n",
    "\n",
    "notas[aprovados]"
   ]
  },
  {
   "cell_type": "code",
   "execution_count": 23,
   "id": "b34672e7",
   "metadata": {},
   "outputs": [
    {
     "data": {
      "text/plain": [
       "20.0"
      ]
     },
     "execution_count": 23,
     "metadata": {},
     "output_type": "execute_result"
    }
   ],
   "source": [
    "#Pesquisar a nota máxima\n",
    "\n",
    "nota_maxima = np.max(notas)\n",
    "nota_maxima"
   ]
  },
  {
   "cell_type": "code",
   "execution_count": 24,
   "id": "5d834dea",
   "metadata": {},
   "outputs": [
    {
     "data": {
      "text/plain": [
       "2"
      ]
     },
     "execution_count": 24,
     "metadata": {},
     "output_type": "execute_result"
    }
   ],
   "source": [
    "#índice da nota máxima\n",
    "\n",
    "indice_maximo = np.argmax(notas)\n",
    "indice_maximo"
   ]
  }
 ],
 "metadata": {
  "kernelspec": {
   "display_name": "base",
   "language": "python",
   "name": "python3"
  },
  "language_info": {
   "codemirror_mode": {
    "name": "ipython",
    "version": 3
   },
   "file_extension": ".py",
   "mimetype": "text/x-python",
   "name": "python",
   "nbconvert_exporter": "python",
   "pygments_lexer": "ipython3",
   "version": "3.12.7"
  }
 },
 "nbformat": 4,
 "nbformat_minor": 5
}
