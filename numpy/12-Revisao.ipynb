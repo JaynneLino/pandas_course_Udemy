{
 "cells": [
  {
   "cell_type": "code",
   "execution_count": 1,
   "id": "f98a58bd",
   "metadata": {},
   "outputs": [],
   "source": [
    "import numpy as np"
   ]
  },
  {
   "cell_type": "code",
   "execution_count": null,
   "id": "63cf07b1",
   "metadata": {},
   "outputs": [],
   "source": [
    "#1- criando dados\n",
    "\n",
    "nomes = np.array(['Alice', 'Fernando', 'Carla', 'David'])\n",
    "nota_matematica = np.array([19, 16, 19.5, 20])\n",
    "nota_fisica = np.array([18, 19, 16, 17])\n"
   ]
  },
  {
   "cell_type": "code",
   "execution_count": 6,
   "id": "41cc9033",
   "metadata": {},
   "outputs": [
    {
     "data": {
      "text/plain": [
       "array([18.5 , 17.5 , 17.75, 18.5 ])"
      ]
     },
     "execution_count": 6,
     "metadata": {},
     "output_type": "execute_result"
    }
   ],
   "source": [
    "#2-Calcular  a média\n",
    "#axis=0: pega cada coluna → média de todas as notas de Matemática e depois média de todas de Física.\n",
    "#axis=1: pega cada linha → média de Matemática + Física de cada aluno.\n",
    "\n",
    "media = np.mean(np.column_stack((nota_matematica, nota_fisica)), axis=1)\n",
    "media"
   ]
  },
  {
   "cell_type": "code",
   "execution_count": 7,
   "id": "5f59e25a",
   "metadata": {},
   "outputs": [
    {
     "data": {
      "text/plain": [
       "(array([0, 1, 2, 3], dtype=int64),)"
      ]
     },
     "execution_count": 7,
     "metadata": {},
     "output_type": "execute_result"
    }
   ],
   "source": [
    "#3-identificando alunos aprovados\n",
    "\n",
    "alunos_aprovados = np.where(media > 12)\n",
    "alunos_aprovados"
   ]
  },
  {
   "cell_type": "code",
   "execution_count": 8,
   "id": "772f4d2e",
   "metadata": {},
   "outputs": [
    {
     "data": {
      "text/plain": [
       "array([['Alice', '19.0', '18', '18.5'],\n",
       "       ['Fernando', '16.0', '19', '17.5'],\n",
       "       ['Carla', '19.5', '16', '17.75'],\n",
       "       ['David', '20.0', '17', '18.5']], dtype='<U32')"
      ]
     },
     "execution_count": 8,
     "metadata": {},
     "output_type": "execute_result"
    }
   ],
   "source": [
    "#4-Organizando os dados em uma tabela\n",
    "\n",
    "dados_tabelas = np.column_stack((nomes, nota_matematica, nota_fisica, media))\n",
    "dados_tabelas"
   ]
  },
  {
   "cell_type": "code",
   "execution_count": null,
   "id": "5115a049",
   "metadata": {},
   "outputs": [
    {
     "name": "stdout",
     "output_type": "stream",
     "text": [
      "Alice -> Média: 18.50\n",
      "Fernando -> Média: 17.50\n",
      "Carla -> Média: 17.75\n",
      "David -> Média: 18.50\n"
     ]
    }
   ],
   "source": [
    "#5-Exibindo alunos aprovados\n",
    "\n",
    "for i in alunos_aprovados[0]:\n",
    "    print(f'{dados_tabelas[i][0]} - Média: {media[i]:.2f}')\n"
   ]
  },
  {
   "cell_type": "code",
   "execution_count": 12,
   "id": "b0324a12",
   "metadata": {},
   "outputs": [
    {
     "name": "stdout",
     "output_type": "stream",
     "text": [
      "Grupo 1 : ['Alice' 'Fernando']\n",
      "Grupo 2 : ['Carla']\n",
      "Grupo 3 : ['David']\n"
     ]
    }
   ],
   "source": [
    "#6 - Dividindo alunos em grupos\n",
    "\n",
    "grupos = np.array_split(nomes, 3)\n",
    "for i, value in enumerate(grupos):\n",
    "    print(f'Grupo {i+1} : {value}')"
   ]
  }
 ],
 "metadata": {
  "kernelspec": {
   "display_name": "base",
   "language": "python",
   "name": "python3"
  },
  "language_info": {
   "codemirror_mode": {
    "name": "ipython",
    "version": 3
   },
   "file_extension": ".py",
   "mimetype": "text/x-python",
   "name": "python",
   "nbconvert_exporter": "python",
   "pygments_lexer": "ipython3",
   "version": "3.12.7"
  }
 },
 "nbformat": 4,
 "nbformat_minor": 5
}
