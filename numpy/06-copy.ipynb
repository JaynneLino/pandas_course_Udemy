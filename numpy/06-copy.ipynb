{
 "cells": [
  {
   "cell_type": "markdown",
   "id": "b91ee0ec",
   "metadata": {},
   "source": [
    "Copy \n",
    "- Uma nova cópia do array é criada em memória. Isso significa que as duas matrizes (original e cópia) são independentes uma da outra.\n"
   ]
  },
  {
   "cell_type": "markdown",
   "id": "80c04b30",
   "metadata": {},
   "source": [
    "View\n",
    "- Não é criada em uma nova cópia na memória. A view compartilha os mesmos dados que o array original."
   ]
  },
  {
   "cell_type": "code",
   "execution_count": 2,
   "id": "e02d33fe",
   "metadata": {},
   "outputs": [],
   "source": [
    "import numpy as np"
   ]
  },
  {
   "cell_type": "code",
   "execution_count": 3,
   "id": "617b6e74",
   "metadata": {},
   "outputs": [
    {
     "data": {
      "text/plain": [
       "array([[1, 2, 3],\n",
       "       [4, 5, 6],\n",
       "       [7, 8, 9]])"
      ]
     },
     "execution_count": 3,
     "metadata": {},
     "output_type": "execute_result"
    }
   ],
   "source": [
    "array_original = np.array([[1, 2, 3],\n",
    "                           [4, 5, 6],\n",
    "                           [7, 8, 9]])\n",
    "array_original"
   ]
  },
  {
   "cell_type": "code",
   "execution_count": 4,
   "id": "c7187adf",
   "metadata": {},
   "outputs": [
    {
     "data": {
      "text/plain": [
       "array([[5, 6],\n",
       "       [8, 9]])"
      ]
     },
     "execution_count": 4,
     "metadata": {},
     "output_type": "execute_result"
    }
   ],
   "source": [
    "#1- Cópia rasa (View)\n",
    "#A view altera o array original. Não preserva os dados.\n",
    "\n",
    "array_view = array_original[1: , 1:]\n",
    "array_view\n"
   ]
  },
  {
   "cell_type": "code",
   "execution_count": 5,
   "id": "559f83bd",
   "metadata": {},
   "outputs": [
    {
     "data": {
      "text/plain": [
       "array([[99,  6],\n",
       "       [ 8,  9]])"
      ]
     },
     "execution_count": 5,
     "metadata": {},
     "output_type": "execute_result"
    }
   ],
   "source": [
    "array_view[0,0] = 99\n",
    "array_view"
   ]
  },
  {
   "cell_type": "code",
   "execution_count": null,
   "id": "710a8a18",
   "metadata": {},
   "outputs": [
    {
     "data": {
      "text/plain": [
       "array([[ 1,  2,  3],\n",
       "       [ 4, 99,  6],\n",
       "       [ 7,  8,  9]])"
      ]
     },
     "execution_count": 6,
     "metadata": {},
     "output_type": "execute_result"
    }
   ],
   "source": [
    "#Foi alterado pela array view\n",
    "array_original"
   ]
  },
  {
   "cell_type": "code",
   "execution_count": 7,
   "id": "ea1e1f20",
   "metadata": {},
   "outputs": [
    {
     "data": {
      "text/plain": [
       "array([[ 1,  2,  3],\n",
       "       [ 4, 99,  6],\n",
       "       [ 7,  8,  9]])"
      ]
     },
     "execution_count": 7,
     "metadata": {},
     "output_type": "execute_result"
    }
   ],
   "source": [
    "#2- Copy\n",
    "#Copia e preserva o array original\n",
    "\n",
    "array_copia = array_original.copy()\n",
    "array_copia"
   ]
  },
  {
   "cell_type": "code",
   "execution_count": 15,
   "id": "f21ffb77",
   "metadata": {},
   "outputs": [
    {
     "name": "stdout",
     "output_type": "stream",
     "text": [
      "Este é o array cópia modificado:\n",
      " [[100   2   3]\n",
      " [  4  99   6]\n",
      " [  7   8   9]]\n",
      "Este é o array original e continua sem alterações: \n",
      " [[ 1  2  3]\n",
      " [ 4 99  6]\n",
      " [ 7  8  9]]\n"
     ]
    }
   ],
   "source": [
    "#Alterando dados do array copia\n",
    "\n",
    "array_copia[0,0] = 100\n",
    "print('Este é o array cópia modificado:\\n', array_copia)\n",
    "print('Este é o array original e continua sem alterações: \\n',array_original)"
   ]
  }
 ],
 "metadata": {
  "kernelspec": {
   "display_name": "base",
   "language": "python",
   "name": "python3"
  },
  "language_info": {
   "codemirror_mode": {
    "name": "ipython",
    "version": 3
   },
   "file_extension": ".py",
   "mimetype": "text/x-python",
   "name": "python",
   "nbconvert_exporter": "python",
   "pygments_lexer": "ipython3",
   "version": "3.12.7"
  }
 },
 "nbformat": 4,
 "nbformat_minor": 5
}
