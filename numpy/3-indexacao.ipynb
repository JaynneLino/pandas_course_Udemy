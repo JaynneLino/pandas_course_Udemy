{
 "cells": [
  {
   "cell_type": "code",
   "execution_count": 2,
   "id": "9c765d44",
   "metadata": {},
   "outputs": [],
   "source": [
    "import numpy as np"
   ]
  },
  {
   "cell_type": "code",
   "execution_count": 5,
   "id": "6ab725b3",
   "metadata": {},
   "outputs": [
    {
     "name": "stdout",
     "output_type": "stream",
     "text": [
      "2\n",
      "(3, 3)\n"
     ]
    },
    {
     "data": {
      "text/plain": [
       "array([[10, 20, 30],\n",
       "       [40, 50, 60],\n",
       "       [70, 80, 90]])"
      ]
     },
     "execution_count": 5,
     "metadata": {},
     "output_type": "execute_result"
    }
   ],
   "source": [
    "array = np.array([[10, 20, 30], [40, 50, 60], [70, 80, 90]])\n",
    "\n",
    "print(array.ndim)\n",
    "print(array.shape)\n",
    "array"
   ]
  },
  {
   "cell_type": "code",
   "execution_count": 9,
   "id": "cd881e4a",
   "metadata": {},
   "outputs": [
    {
     "name": "stdout",
     "output_type": "stream",
     "text": [
      "60\n"
     ]
    },
    {
     "data": {
      "text/plain": [
       "60"
      ]
     },
     "execution_count": 9,
     "metadata": {},
     "output_type": "execute_result"
    }
   ],
   "source": [
    "#Buscar elemento na linha 1 e coluna 2.\n",
    "\n",
    "print(array[1][2])\n",
    "\n",
    "#OU\n",
    "\n",
    "elemento = array[1, 2]\n",
    "elemento"
   ]
  },
  {
   "cell_type": "code",
   "execution_count": 11,
   "id": "272a5513",
   "metadata": {},
   "outputs": [
    {
     "data": {
      "text/plain": [
       "array([10, 20, 30])"
      ]
     },
     "execution_count": 11,
     "metadata": {},
     "output_type": "execute_result"
    }
   ],
   "source": [
    "#Dados da primeira linha\n",
    "\n",
    "linha_0 = array[0]\n",
    "linha_0"
   ]
  },
  {
   "cell_type": "code",
   "execution_count": 12,
   "id": "24bddf8e",
   "metadata": {},
   "outputs": [
    {
     "data": {
      "text/plain": [
       "array([20, 50, 80])"
      ]
     },
     "execution_count": 12,
     "metadata": {},
     "output_type": "execute_result"
    }
   ],
   "source": [
    "#Dados só da coluna\n",
    "\n",
    "coluna_1 = array[:, 1]\n",
    "coluna_1"
   ]
  },
  {
   "cell_type": "code",
   "execution_count": 14,
   "id": "70ea07e4",
   "metadata": {},
   "outputs": [
    {
     "data": {
      "text/plain": [
       "array([[20, 30],\n",
       "       [50, 60]])"
      ]
     },
     "execution_count": 14,
     "metadata": {},
     "output_type": "execute_result"
    }
   ],
   "source": [
    "#Fatiamento para obter um subarray\n",
    "#Linha de 0 a 1 | Coluna 1 a 2\n",
    "\n",
    "subarray = array[0:2, 1:3]\n",
    "subarray"
   ]
  },
  {
   "cell_type": "code",
   "execution_count": null,
   "id": "c1673eab",
   "metadata": {},
   "outputs": [
    {
     "data": {
      "text/plain": [
       "array([[False, False, False],\n",
       "       [False, False,  True],\n",
       "       [ True,  True,  True]])"
      ]
     },
     "execution_count": 15,
     "metadata": {},
     "output_type": "execute_result"
    }
   ],
   "source": [
    "#Retorona resultado booleano\n",
    "#Serve para filtrar os dados\n",
    "\n",
    "mascara = array>50\n",
    "mascara"
   ]
  },
  {
   "cell_type": "code",
   "execution_count": 16,
   "id": "fb997b1b",
   "metadata": {},
   "outputs": [
    {
     "data": {
      "text/plain": [
       "array([60, 70, 80, 90])"
      ]
     },
     "execution_count": 16,
     "metadata": {},
     "output_type": "execute_result"
    }
   ],
   "source": [
    "elementos_maiores_50 = array[mascara]\n",
    "elementos_maiores_50"
   ]
  },
  {
   "cell_type": "code",
   "execution_count": 18,
   "id": "5947f7b6",
   "metadata": {},
   "outputs": [
    {
     "data": {
      "text/plain": [
       "array([[ 10,  20,  30],\n",
       "       [ 40, 100,  60],\n",
       "       [ 70,  80,  90]])"
      ]
     },
     "execution_count": 18,
     "metadata": {},
     "output_type": "execute_result"
    }
   ],
   "source": [
    "#Modificar elemento na linha 1, coluna 1\n",
    "#Atribuir o valor 100\n",
    "\n",
    "array[1, 1] = 100\n",
    "array\n"
   ]
  }
 ],
 "metadata": {
  "kernelspec": {
   "display_name": "base",
   "language": "python",
   "name": "python3"
  },
  "language_info": {
   "codemirror_mode": {
    "name": "ipython",
    "version": 3
   },
   "file_extension": ".py",
   "mimetype": "text/x-python",
   "name": "python",
   "nbconvert_exporter": "python",
   "pygments_lexer": "ipython3",
   "version": "3.12.7"
  }
 },
 "nbformat": 4,
 "nbformat_minor": 5
}
