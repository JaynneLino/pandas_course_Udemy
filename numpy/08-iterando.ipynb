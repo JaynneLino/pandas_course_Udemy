{
 "cells": [
  {
   "cell_type": "code",
   "execution_count": 1,
   "id": "d687686f",
   "metadata": {},
   "outputs": [],
   "source": [
    "import numpy as np"
   ]
  },
  {
   "cell_type": "code",
   "execution_count": 2,
   "id": "c7880624",
   "metadata": {},
   "outputs": [
    {
     "data": {
      "text/plain": [
       "array([[1, 2, 3],\n",
       "       [4, 5, 6],\n",
       "       [7, 8, 9]])"
      ]
     },
     "execution_count": 2,
     "metadata": {},
     "output_type": "execute_result"
    }
   ],
   "source": [
    "array = np.array([[1, 2, 3],\n",
    "                  [4, 5, 6],\n",
    "                  [7, 8, 9]])\n",
    "array"
   ]
  },
  {
   "cell_type": "code",
   "execution_count": 4,
   "id": "ef158467",
   "metadata": {},
   "outputs": [
    {
     "name": "stdout",
     "output_type": "stream",
     "text": [
      "[1 2 3]\n",
      "[4 5 6]\n",
      "[7 8 9]\n"
     ]
    }
   ],
   "source": [
    "#1- iteração simples usando o loop for\n",
    "\n",
    "for linha in array:\n",
    "    print(linha)"
   ]
  },
  {
   "cell_type": "code",
   "execution_count": 9,
   "id": "447af52a",
   "metadata": {},
   "outputs": [
    {
     "name": "stdout",
     "output_type": "stream",
     "text": [
      "1, 2, 3, 4, 5, 6, 7, 8, 9, "
     ]
    }
   ],
   "source": [
    "#2- iteração simples usando o loop for\n",
    "\n",
    "for linha in array:\n",
    "    for elemento in linha:\n",
    "        print(elemento, end = ', ')"
   ]
  },
  {
   "cell_type": "code",
   "execution_count": null,
   "id": "93500dac",
   "metadata": {},
   "outputs": [
    {
     "name": "stdout",
     "output_type": "stream",
     "text": [
      "1, 2, 3, 4, 5, 6, 7, 8, 9, "
     ]
    }
   ],
   "source": [
    "#3- Usando o np.nditer para uma iteração mais eficiente.\n",
    "#Mesmo resultado com apenas um ciclo FOR\n",
    "\n",
    "for valor in np.nditer(array):\n",
    "    print(valor, end= ', ')"
   ]
  },
  {
   "cell_type": "code",
   "execution_count": 12,
   "id": "94eea5fd",
   "metadata": {},
   "outputs": [
    {
     "name": "stdout",
     "output_type": "stream",
     "text": [
      "6, 7, 8, 9, "
     ]
    }
   ],
   "source": [
    "#4- Iteração com condição\n",
    "\n",
    "for valor in np.nditer(array):\n",
    "    if valor > 5:\n",
    "        print(valor, end= ', ')"
   ]
  },
  {
   "cell_type": "code",
   "execution_count": null,
   "id": "ee628d99",
   "metadata": {},
   "outputs": [
    {
     "name": "stdout",
     "output_type": "stream",
     "text": [
      "Elemento na posição (0, 0): 1\n",
      "Elemento na posição (0, 1): 2\n",
      "Elemento na posição (0, 2): 3\n",
      "Elemento na posição (1, 0): 4\n",
      "Elemento na posição (1, 1): 5\n",
      "Elemento na posição (1, 2): 6\n",
      "Elemento na posição (2, 0): 7\n",
      "Elemento na posição (2, 1): 8\n",
      "Elemento na posição (2, 2): 9\n"
     ]
    }
   ],
   "source": [
    "#Iteração com índices\n",
    "# Array.shape retorna uma tupla com as dimensões do array\n",
    "# array.shape[0] → número de linhas.\n",
    "# array.shape[1] → número de colunas.\n",
    "\n",
    "for i in range(array.shape[0]): #iterando sobre as linhas\n",
    "    for j in range(array.shape[1]):\n",
    "        print(f'Elemento na posição ({i}, {j}): {array[i, j]}')"
   ]
  }
 ],
 "metadata": {
  "kernelspec": {
   "display_name": "base",
   "language": "python",
   "name": "python3"
  },
  "language_info": {
   "codemirror_mode": {
    "name": "ipython",
    "version": 3
   },
   "file_extension": ".py",
   "mimetype": "text/x-python",
   "name": "python",
   "nbconvert_exporter": "python",
   "pygments_lexer": "ipython3",
   "version": "3.12.7"
  }
 },
 "nbformat": 4,
 "nbformat_minor": 5
}
