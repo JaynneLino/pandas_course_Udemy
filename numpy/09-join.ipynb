{
 "cells": [
  {
   "cell_type": "code",
   "execution_count": 2,
   "id": "25e2de9a",
   "metadata": {},
   "outputs": [],
   "source": [
    "import numpy as np"
   ]
  },
  {
   "cell_type": "code",
   "execution_count": 3,
   "id": "10dd8473",
   "metadata": {},
   "outputs": [],
   "source": [
    "array1 = np.array([1, 2, 3, 4])\n",
    "array2 = np.array([5, 6, 7])"
   ]
  },
  {
   "cell_type": "code",
   "execution_count": null,
   "id": "f14d02f3",
   "metadata": {},
   "outputs": [
    {
     "data": {
      "text/plain": [
       "array([1, 2, 3, 4, 5, 6, 7])"
      ]
     },
     "execution_count": 7,
     "metadata": {},
     "output_type": "execute_result"
    }
   ],
   "source": [
    "#Concatenando os arrays\n",
    "\n",
    "novo_array = np.concatenate((array1, array2))\n",
    "novo_array\n"
   ]
  },
  {
   "cell_type": "code",
   "execution_count": 8,
   "id": "30b050c5",
   "metadata": {},
   "outputs": [],
   "source": [
    "#Criando arrays com nomes e notas\n",
    "\n",
    "nomes = np.array(['Alice', 'João', 'Marcos'])\n",
    "notas_matematica = np.array([18, 17.5, 20])\n",
    "notas_fisica = np.array([19, 18, 19])"
   ]
  },
  {
   "cell_type": "code",
   "execution_count": 11,
   "id": "628ef8eb",
   "metadata": {},
   "outputs": [
    {
     "data": {
      "text/plain": [
       "array([['Alice', 'João', 'Marcos'],\n",
       "       ['18.0', '17.5', '20.0'],\n",
       "       ['19', '18', '19']], dtype='<U32')"
      ]
     },
     "execution_count": 11,
     "metadata": {},
     "output_type": "execute_result"
    }
   ],
   "source": [
    "#Usando np.vstack para empilhar verticalmente os dados\n",
    "\n",
    "dados_estudantes = np.vstack((nomes,notas_matematica, notas_fisica))\n",
    "dados_estudantes\n"
   ]
  },
  {
   "cell_type": "code",
   "execution_count": 12,
   "id": "4f03ccf0",
   "metadata": {},
   "outputs": [
    {
     "data": {
      "text/plain": [
       "array([[18. , 19. ],\n",
       "       [17.5, 18. ],\n",
       "       [20. , 19. ]])"
      ]
     },
     "execution_count": 12,
     "metadata": {},
     "output_type": "execute_result"
    }
   ],
   "source": [
    "#Usando np.hstack para empilhar horizontalmente\n",
    "\n",
    "matriz_notas = np.column_stack((notas_matematica, notas_fisica))\n",
    "matriz_notas"
   ]
  },
  {
   "cell_type": "code",
   "execution_count": 13,
   "id": "54191172",
   "metadata": {},
   "outputs": [
    {
     "data": {
      "text/plain": [
       "array([[18.  , 19.  , 18.5 ],\n",
       "       [17.5 , 18.  , 17.75],\n",
       "       [20.  , 19.  , 19.5 ]])"
      ]
     },
     "execution_count": 13,
     "metadata": {},
     "output_type": "execute_result"
    }
   ],
   "source": [
    "#Adicionar uma nova coluna com a média das notas\n",
    "\n",
    "media_notas = np.mean(matriz_notas, axis=1)\n",
    "matriz_final = np.column_stack((matriz_notas, media_notas))\n",
    "matriz_final"
   ]
  }
 ],
 "metadata": {
  "kernelspec": {
   "display_name": "base",
   "language": "python",
   "name": "python3"
  },
  "language_info": {
   "codemirror_mode": {
    "name": "ipython",
    "version": 3
   },
   "file_extension": ".py",
   "mimetype": "text/x-python",
   "name": "python",
   "nbconvert_exporter": "python",
   "pygments_lexer": "ipython3",
   "version": "3.12.7"
  }
 },
 "nbformat": 4,
 "nbformat_minor": 5
}
